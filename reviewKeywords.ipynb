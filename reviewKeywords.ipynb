{
 "cells": [
  {
   "cell_type": "code",
   "execution_count": 11,
   "metadata": {},
   "outputs": [],
   "source": [
    "%matplotlib inline\n",
    "import matplotlib.pyplot as plt\n",
    "import numpy as np\n",
    "import scipy as sp\n",
    "import pandas as pd\n",
    "from sklearn import datasets, linear_model\n",
    "from textblob import TextBlob"
   ]
  },
  {
   "cell_type": "code",
   "execution_count": 12,
   "metadata": {},
   "outputs": [],
   "source": [
    "train = pd.read_csv(\"./Hotel_Reviews.csv\",usecols=['Hotel_Name','Positive_Review'])\n",
    "train = train.iloc[0:500,]"
   ]
  },
  {
   "cell_type": "code",
   "execution_count": 13,
   "metadata": {},
   "outputs": [],
   "source": [
    "grouped_df = train.groupby('Hotel_Name')\n",
    "grouped_df_sum = train.groupby('Hotel_Name').apply(lambda x: x.sum())\n",
    "\n",
    "#from multi_rake import Rake\n",
    "#rake = Rake()\n",
    "#print(rake.apply(grouped_df_sum['Positive_Review'][1]))\n",
    "#print(rake.apply(grouped_df_sum['Positive_Review'].values[0]))\n",
    "#print(len(grouped_df_sum.to_string()))\n",
    "#for i in range(0, len(grouped_df_sum)):\n",
    "    #print(rake.apply(grouped_df_sum['Positive_Review'][i]))"
   ]
  },
  {
   "cell_type": "code",
   "execution_count": null,
   "metadata": {},
   "outputs": [],
   "source": [
    "#train = train.iloc[1:10,]"
   ]
  },
  {
   "cell_type": "code",
   "execution_count": null,
   "metadata": {},
   "outputs": [],
   "source": [
    "#print(train)"
   ]
  },
  {
   "cell_type": "code",
   "execution_count": null,
   "metadata": {},
   "outputs": [],
   "source": [
    "#train_X = train.Positive_Review[:, np.newaxis]"
   ]
  },
  {
   "cell_type": "code",
   "execution_count": null,
   "metadata": {},
   "outputs": [],
   "source": [
    "#print(train)"
   ]
  },
  {
   "cell_type": "code",
   "execution_count": 20,
   "metadata": {},
   "outputs": [],
   "source": [
    "reviewTags = []\n",
    "#for i in range(0,len(train_X)):\n",
    " #   eachReview = TextBlob(train_X[i][0])\n",
    "    #print(eachReview.noun_phrases)\n",
    "    #print(eachReview.tags)\n",
    "  #  for j in range(0,len(eachReview.tags)):\n",
    "   #     if eachReview.tags[j][1] == 'NN' :\n",
    "            #print(eachReview.tags[j][0])\n",
    "          #  reviewTags.append(eachReview.tags[j][0])\n",
    "for i in range(0, len(grouped_df_sum)) :\n",
    "    eachReview = TextBlob(grouped_df_sum['Positive_Review'][i])\n",
    "    reviewTags.append([])\n",
    "    for j in range(0, len(eachReview.tags)) :\n",
    "        if eachReview.tags[j][1] == 'NN' :\n",
    "            reviewTags[i].append(eachReview.tags[j][0])"
   ]
  },
  {
   "cell_type": "code",
   "execution_count": 31,
   "metadata": {},
   "outputs": [],
   "source": [
    "#for i in range(0, len(reviewTags)) :\n",
    "    #print(reviewTags[i])"
   ]
  },
  {
   "cell_type": "code",
   "execution_count": 30,
   "metadata": {},
   "outputs": [
    {
     "name": "stdout",
     "output_type": "stream",
     "text": [
      "[('room', 136), ('staff', 123), ('location', 71), ('bed', 51), ('building', 46), ('park', 44), ('restaurant', 31), ('breakfast', 29), ('area', 27), ('bar', 26), ('city', 24), ('food', 23), ('place', 22), ('centre', 21)]\n",
      "[('location', 40), ('staff', 30), ('room', 30), ('breakfast', 25), ('tube', 16), ('walk', 14), ('station', 14), ('area', 13), ('garden', 11), ('bathroom', 9), ('bar', 8), ('night', 7), ('minute', 7), ('shower', 6)]\n"
     ]
    }
   ],
   "source": [
    "from collections import Counter\n",
    "for i in range(0,len(reviewTags)):\n",
    "    counter = Counter(reviewTags[i])\n",
    "    mostOccurTag = counter.most_common(15) \n",
    "    for i in range (0,len(mostOccurTag)-1):\n",
    "        if mostOccurTag[i][0] == 'hotel' :\n",
    "             mostOccurTag.pop(i)\n",
    "    print(mostOccurTag)"
   ]
  },
  {
   "cell_type": "code",
   "execution_count": null,
   "metadata": {},
   "outputs": [],
   "source": []
  },
  {
   "cell_type": "code",
   "execution_count": null,
   "metadata": {},
   "outputs": [],
   "source": []
  }
 ],
 "metadata": {
  "kernelspec": {
   "display_name": "Python 3",
   "language": "python",
   "name": "python3"
  },
  "language_info": {
   "codemirror_mode": {
    "name": "ipython",
    "version": 3
   },
   "file_extension": ".py",
   "mimetype": "text/x-python",
   "name": "python",
   "nbconvert_exporter": "python",
   "pygments_lexer": "ipython3",
   "version": "3.6.5"
  }
 },
 "nbformat": 4,
 "nbformat_minor": 2
}
