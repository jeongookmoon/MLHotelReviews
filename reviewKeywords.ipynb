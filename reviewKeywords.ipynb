{
 "cells": [
  {
   "cell_type": "code",
   "execution_count": 297,
   "metadata": {},
   "outputs": [],
   "source": [
    "%matplotlib inline\n",
    "import matplotlib.pyplot as plt\n",
    "import numpy as np\n",
    "import scipy as sp\n",
    "import pandas as pd\n",
    "from sklearn import datasets, linear_model\n",
    "from textblob import TextBlob\n",
    "import copy"
   ]
  },
  {
   "cell_type": "code",
   "execution_count": 298,
   "metadata": {},
   "outputs": [],
   "source": [
    "train = pd.read_csv(\"./Hotel_Reviews.csv\",usecols=['Hotel_Name','Positive_Review','Average_Score'])\n",
    "train = train.iloc[0:1000,]"
   ]
  },
  {
   "cell_type": "code",
   "execution_count": 299,
   "metadata": {},
   "outputs": [],
   "source": [
    "grouped_df = train.groupby('Hotel_Name')\n",
    "grouped_df_sum = train.groupby('Hotel_Name').apply(lambda x: x.sum())\n",
    "\n",
    "#from multi_rake import Rake\n",
    "#rake = Rake()\n",
    "#print(rake.apply(grouped_df_sum['Positive_Review'][1]))\n",
    "#print(rake.apply(grouped_df_sum['Positive_Review'].values[0]))\n",
    "#print(len(grouped_df_sum.to_string()))\n",
    "#for i in range(0, len(grouped_df_sum)):\n",
    "    #print(rake.apply(grouped_df_sum['Positive_Review'][i]))"
   ]
  },
  {
   "cell_type": "code",
   "execution_count": 300,
   "metadata": {},
   "outputs": [],
   "source": [
    "#train = train.iloc[1:10,]"
   ]
  },
  {
   "cell_type": "code",
   "execution_count": 301,
   "metadata": {},
   "outputs": [],
   "source": [
    "#print(train)"
   ]
  },
  {
   "cell_type": "code",
   "execution_count": 302,
   "metadata": {},
   "outputs": [],
   "source": [
    "#train_X = train.Positive_Review[:, np.newaxis]"
   ]
  },
  {
   "cell_type": "code",
   "execution_count": 303,
   "metadata": {},
   "outputs": [],
   "source": [
    "#print(train)"
   ]
  },
  {
   "cell_type": "code",
   "execution_count": 304,
   "metadata": {},
   "outputs": [
    {
     "name": "stdout",
     "output_type": "stream",
     "text": [
      "{'Apex Temple Court Hotel': [9, 9, 9, 9, 9, 9, 9, 9, 9, 9, 9, 9, 9, 9], 'Hotel Arena': [8, 8, 8, 8, 8, 8, 8, 8, 8, 8, 8, 8, 8, 8], 'K K Hotel George': [8, 8, 8, 8, 8, 8, 8, 8, 8, 8, 8, 8, 8, 8]}\n",
      "{'Apex Temple Court Hotel': [9, 9, 9, 9, 9, 9, 9, 9, 9, 9, 9, 9, 9, 9], 'Hotel Arena': [8, 8, 8, 8, 8, 8, 8, 8, 8, 8, 8, 8, 8, 8], 'K K Hotel George': [8, 8, 8, 8, 8, 8, 8, 8, 8, 8, 8, 8, 8, 8]}\n"
     ]
    }
   ],
   "source": [
    "keywordArray = {}\n",
    "attributes = {}\n",
    "attributes['staff'] = 0\n",
    "attributes['room'] = 1\n",
    "attributes['location'] = 2\n",
    "attributes['breakfast'] = 3\n",
    "attributes['bed']=4\n",
    "attributes['service']=5\n",
    "attributes['station'] = 6\n",
    "attributes['bathroom'] = 7\n",
    "attributes['area'] = 8\n",
    "attributes['bar'] = 9\n",
    "attributes['view']= 10\n",
    "attributes['metro'] = 11\n",
    "attributes['tube'] = 12\n",
    "attributes['food'] = 13\n",
    "\n",
    "rowSize = []\n",
    "for k in grouped_df.size():\n",
    "    rowSize.append(k)\n",
    "scores = []\n",
    "i = 0\n",
    "for k in grouped_df_sum['Average_Score']:\n",
    "   score = int(round(k/rowSize[i],0))\n",
    "   scores.append(score)\n",
    "   i = i + 1\n",
    "\n",
    "j = 0\n",
    "keyArr = grouped_df.groups.keys()\n",
    "for k in keyArr :\n",
    "    keywordArray[k] = copy.deepcopy([scores[j], scores[j], scores[j], scores[j], scores[j], scores[j], scores[j], scores[j], scores[j], scores[j], scores[j],scores[j], scores[j], scores[j]])\n",
    "    j = j + 1\n",
    "print(keywordArray)\n",
    "print(keywordArray)"
   ]
  },
  {
   "cell_type": "code",
   "execution_count": 305,
   "metadata": {},
   "outputs": [
    {
     "name": "stdout",
     "output_type": "stream",
     "text": [
      "{'Apex Temple Court Hotel': [9, 9, 9, 9, 9, 9, 9, 9, 9, 9, 9, 9, 9, 9], 'Hotel Arena': [8, 8, 8, 8, 8, 8, 8, 8, 8, 8, 8, 8, 8, 8], 'K K Hotel George': [8, 8, 8, 8, 8, 8, 8, 8, 8, 8, 8, 8, 8, 8]}\n",
      "{'Apex Temple Court Hotel': [9, 9, 9, 9, 9, 9, 9, 9, 9, 9, 9, 9, 9, 9], 'Hotel Arena': [8, 8, 8, 8, 8, 8, 8, 8, 8, 8, 8, 8, 8, 8], 'K K Hotel George': [8, 8, 8, 8, 8, 8, 8, 8, 8, 8, 8, 8, 8, 8]}\n"
     ]
    }
   ],
   "source": [
    "print(keywordArray)\n",
    "reviewTags = []\n",
    "#for i in range(0,len(train_X)):\n",
    " #   eachReview = TextBlob(train_X[i][0])\n",
    "    #print(eachReview.noun_phrases)\n",
    "    #print(eachReview.tags)\n",
    "  #  for j in range(0,len(eachReview.tags)):\n",
    "   #     if eachReview.tags[j][1] == 'NN' :\n",
    "            #print(eachReview.tags[j][0])\n",
    "          #  reviewTags.append(eachReview.tags[j][0])\n",
    "for i in range(0, len(grouped_df_sum)) :\n",
    "    eachReview = TextBlob(grouped_df_sum['Positive_Review'][i])\n",
    "    reviewTags.append([])\n",
    "    for j in range(0, len(eachReview.tags)) :\n",
    "        if eachReview.tags[j][1] == 'NN' :\n",
    "            reviewTags[i].append(eachReview.tags[j][0])\n",
    "print(keywordArray)"
   ]
  },
  {
   "cell_type": "code",
   "execution_count": 306,
   "metadata": {},
   "outputs": [],
   "source": [
    "#for i in range(0, len(reviewTags)) :\n",
    "    #print(reviewTags[i])"
   ]
  },
  {
   "cell_type": "code",
   "execution_count": 307,
   "metadata": {},
   "outputs": [
    {
     "name": "stdout",
     "output_type": "stream",
     "text": [
      "{'Apex Temple Court Hotel': [9, '117', '72', '36', '54', '36', 9, '45', 9, 9, 9, 9, 9, 9], 'Hotel Arena': ['984', '1088', '568', '232', '408', 8, 8, 8, 8, 8, 8, 8, 8, 8], 'K K Hotel George': ['1304', '976', '1560', '1072', '240', 8, '504', 8, 8, 8, 8, 8, '440', 8]}\n"
     ]
    }
   ],
   "source": [
    "hotelnames = []\n",
    "for k in keywordArray.keys() :\n",
    "    hotelnames.append(k)\n",
    "#print(hotelnames)\n",
    "allmostOccurTags = []\n",
    "from collections import Counter\n",
    "for i in range(0,len(reviewTags)):\n",
    "    counter = Counter(reviewTags[i])\n",
    "    mostOccurTag = counter.most_common(10) \n",
    "    tempNum = str(keywordArray[hotelnames[i]][13])\n",
    "    #print(tempNum)\n",
    "    for j in range (0,len(mostOccurTag)-1):\n",
    "        tempNum2 = str(mostOccurTag[j][1])\n",
    "        #print(tempNum2)\n",
    "        tempNum3 = str(attributes.get(mostOccurTag[j][0]))\n",
    "        #print(tempNum3)\n",
    "        for k in range(0, len(mostOccurTag)):\n",
    "            if mostOccurTag[j][0] in attributes :\n",
    "                #print()\n",
    "                #print(mostOccurTag[j][1])\n",
    "                #print(tempNum * mostOccurTag[j][1])\n",
    "                tempNum4 = str(int(tempNum)*int(tempNum2))\n",
    "                #print(tempNum4)\n",
    "                #print(tempNum)\n",
    "                keywordArray[hotelnames[i]][int(tempNum3)] = tempNum4\n",
    "                #attrs = keywordArray.keys()[i]\n",
    "                #print(keywordArray.keys())\n",
    "                #attrs[j] = mostOccurTag[j][1]\n",
    "#    allmostOccurTags.append(mostOccurTag)\n",
    "#print(allmostOccurTags)\n",
    "print(keywordArray)"
   ]
  },
  {
   "cell_type": "markdown",
   "metadata": {},
   "source": [
    "### allterms = []\n",
    "for i in range(0, len(allmostOccurTags)) :\n",
    "    for j in range(0, len(allmostOccurTags[i])):\n",
    "        allterms.append(allmostOccurTags[i][j][0])\n",
    "counter = Counter(allterms)\n",
    "mostterms = counter.most_common(16)\n",
    "print(mostterms)"
   ]
  },
  {
   "cell_type": "code",
   "execution_count": null,
   "metadata": {},
   "outputs": [],
   "source": []
  },
  {
   "cell_type": "code",
   "execution_count": null,
   "metadata": {},
   "outputs": [],
   "source": []
  }
 ],
 "metadata": {
  "kernelspec": {
   "display_name": "Python 3",
   "language": "python",
   "name": "python3"
  },
  "language_info": {
   "codemirror_mode": {
    "name": "ipython",
    "version": 3
   },
   "file_extension": ".py",
   "mimetype": "text/x-python",
   "name": "python",
   "nbconvert_exporter": "python",
   "pygments_lexer": "ipython3",
   "version": "3.6.5"
  }
 },
 "nbformat": 4,
 "nbformat_minor": 2
}
