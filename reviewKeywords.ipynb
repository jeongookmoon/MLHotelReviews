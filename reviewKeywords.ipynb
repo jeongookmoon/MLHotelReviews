{
 "cells": [
  {
   "cell_type": "code",
   "execution_count": 12,
   "metadata": {},
   "outputs": [],
   "source": [
    "%matplotlib inline\n",
    "import matplotlib.pyplot as plt\n",
    "import numpy as np\n",
    "import scipy as sp\n",
    "import pandas as pd\n",
    "from sklearn import datasets, linear_model\n",
    "from textblob import TextBlob\n",
    "import copy"
   ]
  },
  {
   "cell_type": "code",
   "execution_count": 13,
   "metadata": {},
   "outputs": [],
   "source": [
    "train = pd.read_csv(\"./Hotel_Reviews.csv\",usecols=['Hotel_Name','Positive_Review','Average_Score'])\n",
    "train = train.iloc[0:10000,]"
   ]
  },
  {
   "cell_type": "code",
   "execution_count": 14,
   "metadata": {},
   "outputs": [],
   "source": [
    "grouped_df = train.groupby('Hotel_Name')\n",
    "grouped_df_sum = train.groupby('Hotel_Name').apply(lambda x: x.sum())\n",
    "\n",
    "#from multi_rake import Rake\n",
    "#rake = Rake()\n",
    "#print(rake.apply(grouped_df_sum['Positive_Review'][1]))\n",
    "#print(rake.apply(grouped_df_sum['Positive_Review'].values[0]))\n",
    "#print(len(grouped_df_sum.to_string()))\n",
    "#for i in range(0, len(grouped_df_sum)):\n",
    "    #print(rake.apply(grouped_df_sum['Positive_Review'][i]))"
   ]
  },
  {
   "cell_type": "code",
   "execution_count": 15,
   "metadata": {},
   "outputs": [],
   "source": [
    "#train = train.iloc[1:10,]"
   ]
  },
  {
   "cell_type": "code",
   "execution_count": 16,
   "metadata": {},
   "outputs": [],
   "source": [
    "#print(train)"
   ]
  },
  {
   "cell_type": "code",
   "execution_count": 17,
   "metadata": {},
   "outputs": [],
   "source": [
    "#train_X = train.Positive_Review[:, np.newaxis]"
   ]
  },
  {
   "cell_type": "code",
   "execution_count": 18,
   "metadata": {},
   "outputs": [],
   "source": [
    "#print(train)"
   ]
  },
  {
   "cell_type": "code",
   "execution_count": null,
   "metadata": {},
   "outputs": [],
   "source": [
    "#made with reference https://www.kaggle.com/ivy1219/learn-good-and-bad-from-customers-direct-feedback\n",
    "#import re, nltk\n",
    "#from nltk.stem import WordNetLemmatizer\n",
    "#from nltk.corpus import stopwords\n",
    "#from sklearn.feature_extraction.text import CountVectorizer\n",
    "\n",
    "#data = pd.read_csv(\"./data/Hotel_Reviews.csv\")\n",
    "#data = data.iloc[0:10000,]\n",
    "#print(data)\n",
    "\n",
    "#stop_words = set(stopwords.words('english'))\n",
    "#wordnet_lemmatizer = WordNetLemmatizer()\n",
    "\n",
    "#posKeywords=[]\n",
    "#for i in data['Positive_Review']:\n",
    "#    pos_tokens = nltk.word_tokenize(re.sub('[^a-zA-Z]',' ',i))\n",
    "#    filtered_presult = list(filter(lambda l: l not in stop_words, pos_tokens))\n",
    "#    posKeywords.append(' '.join([wordnet_lemmatizer.lemmatize(tokened_word) for tokened_word in filtered_presult])\n",
    "#cv = CountVectorizer(analyzer = 'word',stop_words = 'english',max_features = 10)\n",
    "#mpositive_words = cv.fit_transform(pos)\n",
    "#words_counts = positive_words.sum(axis=0)\n",
    "#words_values = cv.vocabulary_\n",
    "#print(words_values)\n"
   ]
  },
  {
   "cell_type": "code",
   "execution_count": 19,
   "metadata": {},
   "outputs": [
    {
     "name": "stdout",
     "output_type": "stream",
     "text": [
      "{'Apex Temple Court Hotel': [9, 9, 9, 9, 9, 9, 9, 9, 9, 9, 9, 9, 9, 9], 'Grand Royale London Hyde Park': [8, 8, 8, 8, 8, 8, 8, 8, 8, 8, 8, 8, 8, 8], 'Hotel Arena': [8, 8, 8, 8, 8, 8, 8, 8, 8, 8, 8, 8, 8, 8], 'Hotel Trianon Rive Gauche': [8, 8, 8, 8, 8, 8, 8, 8, 8, 8, 8, 8, 8, 8], 'InterContinental London Park Lane': [8, 8, 8, 8, 8, 8, 8, 8, 8, 8, 8, 8, 8, 8], 'K K Hotel George': [8, 8, 8, 8, 8, 8, 8, 8, 8, 8, 8, 8, 8, 8], 'Kube Hotel Ice Bar': [7, 7, 7, 7, 7, 7, 7, 7, 7, 7, 7, 7, 7, 7], 'Monhotel Lounge SPA': [8, 8, 8, 8, 8, 8, 8, 8, 8, 8, 8, 8, 8, 8], 'Novotel Suites Paris Nord 18 me': [7, 7, 7, 7, 7, 7, 7, 7, 7, 7, 7, 7, 7, 7], 'One Aldwych': [9, 9, 9, 9, 9, 9, 9, 9, 9, 9, 9, 9, 9, 9], 'Park Plaza County Hall London': [8, 8, 8, 8, 8, 8, 8, 8, 8, 8, 8, 8, 8, 8], 'Splendid Etoile': [9, 9, 9, 9, 9, 9, 9, 9, 9, 9, 9, 9, 9, 9], 'The Park Grand London Paddington': [8, 8, 8, 8, 8, 8, 8, 8, 8, 8, 8, 8, 8, 8], 'The Principal London': [8, 8, 8, 8, 8, 8, 8, 8, 8, 8, 8, 8, 8, 8]}\n",
      "{'Apex Temple Court Hotel': [9, 9, 9, 9, 9, 9, 9, 9, 9, 9, 9, 9, 9, 9], 'Grand Royale London Hyde Park': [8, 8, 8, 8, 8, 8, 8, 8, 8, 8, 8, 8, 8, 8], 'Hotel Arena': [8, 8, 8, 8, 8, 8, 8, 8, 8, 8, 8, 8, 8, 8], 'Hotel Trianon Rive Gauche': [8, 8, 8, 8, 8, 8, 8, 8, 8, 8, 8, 8, 8, 8], 'InterContinental London Park Lane': [8, 8, 8, 8, 8, 8, 8, 8, 8, 8, 8, 8, 8, 8], 'K K Hotel George': [8, 8, 8, 8, 8, 8, 8, 8, 8, 8, 8, 8, 8, 8], 'Kube Hotel Ice Bar': [7, 7, 7, 7, 7, 7, 7, 7, 7, 7, 7, 7, 7, 7], 'Monhotel Lounge SPA': [8, 8, 8, 8, 8, 8, 8, 8, 8, 8, 8, 8, 8, 8], 'Novotel Suites Paris Nord 18 me': [7, 7, 7, 7, 7, 7, 7, 7, 7, 7, 7, 7, 7, 7], 'One Aldwych': [9, 9, 9, 9, 9, 9, 9, 9, 9, 9, 9, 9, 9, 9], 'Park Plaza County Hall London': [8, 8, 8, 8, 8, 8, 8, 8, 8, 8, 8, 8, 8, 8], 'Splendid Etoile': [9, 9, 9, 9, 9, 9, 9, 9, 9, 9, 9, 9, 9, 9], 'The Park Grand London Paddington': [8, 8, 8, 8, 8, 8, 8, 8, 8, 8, 8, 8, 8, 8], 'The Principal London': [8, 8, 8, 8, 8, 8, 8, 8, 8, 8, 8, 8, 8, 8]}\n"
     ]
    }
   ],
   "source": [
    "keywordArray = {}\n",
    "attributes = {}\n",
    "attributes['staff'] = 0\n",
    "attributes['room'] = 1\n",
    "attributes['location'] = 2\n",
    "attributes['breakfast'] = 3\n",
    "attributes['bed']=4\n",
    "attributes['service']=5\n",
    "attributes['station'] = 6\n",
    "attributes['bathroom'] = 7\n",
    "attributes['area'] = 8\n",
    "attributes['bar'] = 9\n",
    "attributes['view']= 10\n",
    "attributes['metro'] = 11\n",
    "attributes['tube'] = 12\n",
    "attributes['food'] = 13\n",
    "\n",
    "rowSize = []\n",
    "for k in grouped_df.size():\n",
    "    rowSize.append(k)\n",
    "scores = []\n",
    "i = 0\n",
    "for k in grouped_df_sum['Average_Score']:\n",
    "   score = int(round(k/rowSize[i],0))\n",
    "   scores.append(score)\n",
    "   i = i + 1\n",
    "\n",
    "j = 0\n",
    "keyArr = grouped_df.groups.keys()\n",
    "for k in keyArr :\n",
    "    keywordArray[k] = copy.deepcopy([scores[j], scores[j], scores[j], scores[j], scores[j], scores[j], scores[j], scores[j], scores[j], scores[j], scores[j],scores[j], scores[j], scores[j]])\n",
    "    j = j + 1\n",
    "print(keywordArray)\n",
    "print(keywordArray)"
   ]
  },
  {
   "cell_type": "code",
   "execution_count": 20,
   "metadata": {},
   "outputs": [
    {
     "name": "stdout",
     "output_type": "stream",
     "text": [
      "{'Apex Temple Court Hotel': [9, 9, 9, 9, 9, 9, 9, 9, 9, 9, 9, 9, 9, 9], 'Grand Royale London Hyde Park': [8, 8, 8, 8, 8, 8, 8, 8, 8, 8, 8, 8, 8, 8], 'Hotel Arena': [8, 8, 8, 8, 8, 8, 8, 8, 8, 8, 8, 8, 8, 8], 'Hotel Trianon Rive Gauche': [8, 8, 8, 8, 8, 8, 8, 8, 8, 8, 8, 8, 8, 8], 'InterContinental London Park Lane': [8, 8, 8, 8, 8, 8, 8, 8, 8, 8, 8, 8, 8, 8], 'K K Hotel George': [8, 8, 8, 8, 8, 8, 8, 8, 8, 8, 8, 8, 8, 8], 'Kube Hotel Ice Bar': [7, 7, 7, 7, 7, 7, 7, 7, 7, 7, 7, 7, 7, 7], 'Monhotel Lounge SPA': [8, 8, 8, 8, 8, 8, 8, 8, 8, 8, 8, 8, 8, 8], 'Novotel Suites Paris Nord 18 me': [7, 7, 7, 7, 7, 7, 7, 7, 7, 7, 7, 7, 7, 7], 'One Aldwych': [9, 9, 9, 9, 9, 9, 9, 9, 9, 9, 9, 9, 9, 9], 'Park Plaza County Hall London': [8, 8, 8, 8, 8, 8, 8, 8, 8, 8, 8, 8, 8, 8], 'Splendid Etoile': [9, 9, 9, 9, 9, 9, 9, 9, 9, 9, 9, 9, 9, 9], 'The Park Grand London Paddington': [8, 8, 8, 8, 8, 8, 8, 8, 8, 8, 8, 8, 8, 8], 'The Principal London': [8, 8, 8, 8, 8, 8, 8, 8, 8, 8, 8, 8, 8, 8]}\n",
      "{'Apex Temple Court Hotel': [9, 9, 9, 9, 9, 9, 9, 9, 9, 9, 9, 9, 9, 9], 'Grand Royale London Hyde Park': [8, 8, 8, 8, 8, 8, 8, 8, 8, 8, 8, 8, 8, 8], 'Hotel Arena': [8, 8, 8, 8, 8, 8, 8, 8, 8, 8, 8, 8, 8, 8], 'Hotel Trianon Rive Gauche': [8, 8, 8, 8, 8, 8, 8, 8, 8, 8, 8, 8, 8, 8], 'InterContinental London Park Lane': [8, 8, 8, 8, 8, 8, 8, 8, 8, 8, 8, 8, 8, 8], 'K K Hotel George': [8, 8, 8, 8, 8, 8, 8, 8, 8, 8, 8, 8, 8, 8], 'Kube Hotel Ice Bar': [7, 7, 7, 7, 7, 7, 7, 7, 7, 7, 7, 7, 7, 7], 'Monhotel Lounge SPA': [8, 8, 8, 8, 8, 8, 8, 8, 8, 8, 8, 8, 8, 8], 'Novotel Suites Paris Nord 18 me': [7, 7, 7, 7, 7, 7, 7, 7, 7, 7, 7, 7, 7, 7], 'One Aldwych': [9, 9, 9, 9, 9, 9, 9, 9, 9, 9, 9, 9, 9, 9], 'Park Plaza County Hall London': [8, 8, 8, 8, 8, 8, 8, 8, 8, 8, 8, 8, 8, 8], 'Splendid Etoile': [9, 9, 9, 9, 9, 9, 9, 9, 9, 9, 9, 9, 9, 9], 'The Park Grand London Paddington': [8, 8, 8, 8, 8, 8, 8, 8, 8, 8, 8, 8, 8, 8], 'The Principal London': [8, 8, 8, 8, 8, 8, 8, 8, 8, 8, 8, 8, 8, 8]}\n"
     ]
    }
   ],
   "source": [
    "print(keywordArray)\n",
    "reviewTags = []\n",
    "#for i in range(0,len(train_X)):\n",
    " #   eachReview = TextBlob(train_X[i][0])\n",
    "    #print(eachReview.noun_phrases)\n",
    "    #print(eachReview.tags)\n",
    "  #  for j in range(0,len(eachReview.tags)):\n",
    "   #     if eachReview.tags[j][1] == 'NN' :\n",
    "            #print(eachReview.tags[j][0])\n",
    "          #  reviewTags.append(eachReview.tags[j][0])\n",
    "for i in range(0, len(grouped_df_sum)) :\n",
    "    eachReview = TextBlob(grouped_df_sum['Positive_Review'][i])\n",
    "    reviewTags.append([])\n",
    "    for j in range(0, len(eachReview.tags)) :\n",
    "        if eachReview.tags[j][1] == 'NN' :\n",
    "            reviewTags[i].append(eachReview.tags[j][0])\n",
    "print(keywordArray)"
   ]
  },
  {
   "cell_type": "code",
   "execution_count": 21,
   "metadata": {},
   "outputs": [],
   "source": [
    "#for i in range(0, len(reviewTags)) :\n",
    "    #print(reviewTags[i])"
   ]
  },
  {
   "cell_type": "code",
   "execution_count": 22,
   "metadata": {},
   "outputs": [
    {
     "name": "stdout",
     "output_type": "stream",
     "text": [
      "{'Apex Temple Court Hotel': ['3042', '3186', '2853', '567', '972', '441', 9, '693', 9, 9, 9, 9, 9, 9], 'Grand Royale London Hyde Park': ['4648', '3432', '3816', '1872', '808', 8, 8, 8, 8, 8, 8, 8, '1136', 8], 'Hotel Arena': ['984', '1088', '568', '232', '408', 8, 8, 8, 8, 8, 8, 8, 8, 8], 'Hotel Trianon Rive Gauche': ['512', '592', '696', '264', 8, 8, 8, '80', 8, 8, '216', 8, 8, 8], 'InterContinental London Park Lane': ['344', '216', '280', '144', '48', '136', 8, 8, 8, 8, 8, 8, 8, 8], 'K K Hotel George': ['1304', '976', '1560', '1072', '240', 8, '504', 8, 8, 8, 8, 8, '440', 8], 'Kube Hotel Ice Bar': ['35', '49', 7, 7, 7, 7, 7, 7, 7, 7, 7, 7, 7, 7], 'Monhotel Lounge SPA': ['120', '112', '80', 8, '56', '24', 8, 8, '40', 8, 8, 8, 8, 8], 'Novotel Suites Paris Nord 18 me': ['189', '469', '70', '70', '56', 7, '42', 7, 7, 7, 7, 7, 7, '42'], 'One Aldwych': ['567', '297', '306', 9, 9, '126', 9, 9, 9, '162', 9, 9, 9, '72'], 'Park Plaza County Hall London': ['5168', '5776', '4512', '1208', '880', '888', 8, 8, 8, 8, '1608', 8, 8, '592'], 'Splendid Etoile': ['459', '387', '567', 9, 9, 9, '54', 9, 9, 9, '297', '72', 9, 9], 'The Park Grand London Paddington': ['4280', '3736', '2912', '1352', '968', '528', '872', 8, 8, 8, 8, 8, 8, 8], 'The Principal London': ['3504', '2728', '3440', '816', 8, 8, '608', 8, 8, '552', 8, 8, '520', 8]}\n"
     ]
    }
   ],
   "source": [
    "hotelnames = []\n",
    "for k in keywordArray.keys() :\n",
    "    hotelnames.append(k)\n",
    "#print(hotelnames)\n",
    "allmostOccurTags = []\n",
    "from collections import Counter\n",
    "for i in range(0,len(reviewTags)):\n",
    "    counter = Counter(reviewTags[i])\n",
    "    mostOccurTag = counter.most_common(10) \n",
    "    tempNum = str(keywordArray[hotelnames[i]][13])\n",
    "    #print(tempNum)\n",
    "    for j in range (0,len(mostOccurTag)-1):\n",
    "        tempNum2 = str(mostOccurTag[j][1])\n",
    "        #print(tempNum2)\n",
    "        tempNum3 = str(attributes.get(mostOccurTag[j][0]))\n",
    "        #print(tempNum3)\n",
    "        for k in range(0, len(mostOccurTag)):\n",
    "            if mostOccurTag[j][0] in attributes :\n",
    "                #print()\n",
    "                #print(mostOccurTag[j][1])\n",
    "                #print(tempNum * mostOccurTag[j][1])\n",
    "                tempNum4 = str(int(tempNum)*int(tempNum2))\n",
    "                #print(tempNum4)\n",
    "                #print(tempNum)\n",
    "                keywordArray[hotelnames[i]][int(tempNum3)] = tempNum4\n",
    "                #attrs = keywordArray.keys()[i]\n",
    "                #print(keywordArray.keys())\n",
    "                #attrs[j] = mostOccurTag[j][1]\n",
    "#    allmostOccurTags.append(mostOccurTag)\n",
    "#print(allmostOccurTags)\n",
    "print(keywordArray)"
   ]
  },
  {
   "cell_type": "markdown",
   "metadata": {},
   "source": [
    "### allterms = []\n",
    "for i in range(0, len(allmostOccurTags)) :\n",
    "    for j in range(0, len(allmostOccurTags[i])):\n",
    "        allterms.append(allmostOccurTags[i][j][0])\n",
    "counter = Counter(allterms)\n",
    "mostterms = counter.most_common(16)\n",
    "print(mostterms)"
   ]
  },
  {
   "cell_type": "code",
   "execution_count": 40,
   "metadata": {},
   "outputs": [
    {
     "name": "stdout",
     "output_type": "stream",
     "text": [
      "[[1.]]\n",
      "[[0.95336306]]\n",
      "[[0.96666949]]\n",
      "[[0.94160248]]\n",
      "[[0.9402629]]\n",
      "[[0.8785182]]\n",
      "[[0.85592081]]\n",
      "[[0.95472243]]\n",
      "[[0.83683154]]\n",
      "[[0.89842967]]\n",
      "[[0.96996585]]\n",
      "[[0.8920761]]\n",
      "[[0.97067847]]\n",
      "[[0.94847564]]\n",
      "0.9706784714296524\n",
      "[11  9  1]\n",
      "[0.97067847 0.96996585 0.96666949]\n",
      "['Splendid Etoile' 'One Aldwych' 'Grand Royale London Hyde Park']\n"
     ]
    }
   ],
   "source": [
    "from sklearn.metrics.pairwise import cosine_similarity\n",
    "import numpy as np\n",
    "simScores = []\n",
    "for k in keywordArray.keys():\n",
    "    print(cosine_similarity([keywordArray.get('Apex Temple Court Hotel')], [keywordArray.get(k)]))\n",
    "    simScores.append(cosine_similarity([keywordArray.get('Apex Temple Court Hotel')], [keywordArray.get(k)])[0][0])\n",
    "simScores.remove(1.0)\n",
    "npsimScores = np.array(simScores)\n",
    "print(max(simScores))\n",
    "indexes = npsimScores.argsort()[-3:][::-1]\n",
    "print(indexes)\n",
    "print(npsimScores[indexes])\n",
    "nphotelnames = np.array(hotelnames)\n",
    "print(nphotelnames[indexes])"
   ]
  },
  {
   "cell_type": "code",
   "execution_count": null,
   "metadata": {},
   "outputs": [],
   "source": []
  }
 ],
 "metadata": {
  "kernelspec": {
   "display_name": "Python 3",
   "language": "python",
   "name": "python3"
  },
  "language_info": {
   "codemirror_mode": {
    "name": "ipython",
    "version": 3
   },
   "file_extension": ".py",
   "mimetype": "text/x-python",
   "name": "python",
   "nbconvert_exporter": "python",
   "pygments_lexer": "ipython3",
   "version": "3.6.5"
  }
 },
 "nbformat": 4,
 "nbformat_minor": 2
}
