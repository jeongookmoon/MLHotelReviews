{
 "cells": [
  {
   "cell_type": "code",
   "execution_count": 123,
   "metadata": {},
   "outputs": [],
   "source": [
    "%matplotlib inline\n",
    "import matplotlib.pyplot as plt\n",
    "import numpy as np\n",
    "import scipy as sp\n",
    "import pandas as pd\n",
    "from sklearn import datasets, linear_model\n",
    "from textblob import TextBlob"
   ]
  },
  {
   "cell_type": "code",
   "execution_count": 124,
   "metadata": {},
   "outputs": [],
   "source": [
    "train = pd.read_csv(\"./Hotel_Reviews.csv\", usecols=['Hotel_Name','Positive_Review'])"
   ]
  },
  {
   "cell_type": "code",
   "execution_count": 125,
   "metadata": {},
   "outputs": [],
   "source": [
    "train = train.iloc[1:10,]"
   ]
  },
  {
   "cell_type": "code",
   "execution_count": 126,
   "metadata": {},
   "outputs": [],
   "source": [
    "#print(train)"
   ]
  },
  {
   "cell_type": "code",
   "execution_count": 127,
   "metadata": {},
   "outputs": [],
   "source": [
    "#train_X = train.Positive_Review[:, np.newaxis]"
   ]
  },
  {
   "cell_type": "code",
   "execution_count": 128,
   "metadata": {},
   "outputs": [
    {
     "name": "stdout",
     "output_type": "stream",
     "text": [
      "    Hotel_Name                                    Positive_Review\n",
      "1  Hotel Arena   No real complaints the hotel was great great ...\n",
      "2  Hotel Arena   Location was good and staff were ok It is cut...\n",
      "3  Hotel Arena   Great location in nice surroundings the bar a...\n",
      "4  Hotel Arena    Amazing location and building Romantic setting \n",
      "5  Hotel Arena   Good restaurant with modern design great chil...\n",
      "6  Hotel Arena   The room is spacious and bright The hotel is ...\n",
      "7  Hotel Arena   Good location Set in a lovely park friendly s...\n",
      "8  Hotel Arena                                        No Positive\n",
      "9  Hotel Arena   The room was big enough and the bed is good T...\n"
     ]
    }
   ],
   "source": [
    "print(train)"
   ]
  },
  {
   "cell_type": "code",
   "execution_count": 100,
   "metadata": {},
   "outputs": [],
   "source": [
    "reviewTags = []\n",
    "for i in range(0,len(train_X)):\n",
    "    eachReview = TextBlob(train_X[i][0])\n",
    "    #print(eachReview.noun_phrases)\n",
    "    #print(eachReview.tags)\n",
    "    for j in range(0,len(eachReview.tags)):\n",
    "        if eachReview.tags[j][1] == 'NN' :\n",
    "            #print(eachReview.tags[j][0])\n",
    "            reviewTags.append(eachReview.tags[j][0])"
   ]
  },
  {
   "cell_type": "code",
   "execution_count": 101,
   "metadata": {},
   "outputs": [
    {
     "name": "stdout",
     "output_type": "stream",
     "text": [
      "hotel\n",
      "location\n",
      "service\n",
      "staff\n",
      "check\n",
      "deposit\n",
      "staff\n",
      "offer\n",
      "payment\n",
      "site\n",
      "restaurant\n",
      "bit\n",
      "quality\n",
      "food\n",
      "anyone\n",
      "background\n",
      "wrap\n",
      "option\n",
      "spot\n",
      "i\n",
      "Location\n",
      "staff\n",
      "hotel\n",
      "breakfast\n",
      "range\n",
      "location\n",
      "bar\n",
      "restaurant\n",
      "area\n",
      "building\n",
      "character\n",
      "location\n",
      "building\n",
      "setting\n",
      "restaurant\n",
      "design\n",
      "chill\n",
      "place\n",
      "park\n",
      "hotel\n",
      "room\n",
      "hotel\n",
      "park\n",
      "location\n",
      "park\n",
      "staff\n",
      "quality\n",
      "breakfast\n",
      "room\n",
      "bed\n",
      "breakfast\n",
      "food\n",
      "service\n",
      "hotel\n",
      "hotel\n",
      "park\n",
      "walk\n",
      "morning\n",
      "bicycling\n"
     ]
    }
   ],
   "source": [
    "for i in range(0, len(reviewTags)) :\n",
    "    print(reviewTags[i])"
   ]
  },
  {
   "cell_type": "code",
   "execution_count": 109,
   "metadata": {},
   "outputs": [
    {
     "name": "stdout",
     "output_type": "stream",
     "text": [
      "[('hotel', 6), ('location', 4), ('staff', 4), ('park', 4), ('restaurant', 3), ('breakfast', 3)]\n"
     ]
    }
   ],
   "source": [
    "from collections import Counter\n",
    "Counter = Counter(reviewTags)\n",
    "mostOccurTag = Counter.most_common(6) \n",
    "for i in range (0,len(mostOccurTag)):\n",
    "    if mostOccurTag[i][0] == 'hotel' :\n",
    "         mostOccurTag.remove(i)\n",
    "print(mostOccurTag)"
   ]
  },
  {
   "cell_type": "code",
   "execution_count": null,
   "metadata": {},
   "outputs": [],
   "source": []
  },
  {
   "cell_type": "code",
   "execution_count": null,
   "metadata": {},
   "outputs": [],
   "source": []
  }
 ],
 "metadata": {
  "kernelspec": {
   "display_name": "Python 3",
   "language": "python",
   "name": "python3"
  },
  "language_info": {
   "codemirror_mode": {
    "name": "ipython",
    "version": 3
   },
   "file_extension": ".py",
   "mimetype": "text/x-python",
   "name": "python",
   "nbconvert_exporter": "python",
   "pygments_lexer": "ipython3",
   "version": "3.6.5"
  }
 },
 "nbformat": 4,
 "nbformat_minor": 2
}
