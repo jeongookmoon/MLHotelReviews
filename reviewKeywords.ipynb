{
 "cells": [
  {
   "cell_type": "code",
   "execution_count": 1,
   "metadata": {},
   "outputs": [],
   "source": [
    "%matplotlib inline\n",
    "import matplotlib.pyplot as plt\n",
    "import numpy as np\n",
    "import scipy as sp\n",
    "import pandas as pd\n",
    "from sklearn import datasets, linear_model\n",
    "from textblob import TextBlob"
   ]
  },
  {
   "cell_type": "code",
   "execution_count": 2,
   "metadata": {},
   "outputs": [],
   "source": [
    "train = pd.read_csv(\"./Hotel_Reviews.csv\",usecols=['Hotel_Name','Positive_Review'])\n",
    "train = train.iloc[0:50000,]"
   ]
  },
  {
   "cell_type": "code",
   "execution_count": 3,
   "metadata": {},
   "outputs": [],
   "source": [
    "grouped_df = train.groupby('Hotel_Name')\n",
    "grouped_df_sum = train.groupby('Hotel_Name').apply(lambda x: x.sum())\n",
    "\n",
    "#from multi_rake import Rake\n",
    "#rake = Rake()\n",
    "#print(rake.apply(grouped_df_sum['Positive_Review'][1]))\n",
    "#print(rake.apply(grouped_df_sum['Positive_Review'].values[0]))\n",
    "#print(len(grouped_df_sum.to_string()))\n",
    "#for i in range(0, len(grouped_df_sum)):\n",
    "    #print(rake.apply(grouped_df_sum['Positive_Review'][i]))"
   ]
  },
  {
   "cell_type": "code",
   "execution_count": 4,
   "metadata": {},
   "outputs": [],
   "source": [
    "#train = train.iloc[1:10,]"
   ]
  },
  {
   "cell_type": "code",
   "execution_count": 5,
   "metadata": {},
   "outputs": [],
   "source": [
    "#print(train)"
   ]
  },
  {
   "cell_type": "code",
   "execution_count": 6,
   "metadata": {},
   "outputs": [],
   "source": [
    "#train_X = train.Positive_Review[:, np.newaxis]"
   ]
  },
  {
   "cell_type": "code",
   "execution_count": 7,
   "metadata": {},
   "outputs": [],
   "source": [
    "#print(train)"
   ]
  },
  {
   "cell_type": "code",
   "execution_count": 8,
   "metadata": {},
   "outputs": [],
   "source": [
    "reviewTags = []\n",
    "#for i in range(0,len(train_X)):\n",
    " #   eachReview = TextBlob(train_X[i][0])\n",
    "    #print(eachReview.noun_phrases)\n",
    "    #print(eachReview.tags)\n",
    "  #  for j in range(0,len(eachReview.tags)):\n",
    "   #     if eachReview.tags[j][1] == 'NN' :\n",
    "            #print(eachReview.tags[j][0])\n",
    "          #  reviewTags.append(eachReview.tags[j][0])\n",
    "for i in range(0, len(grouped_df_sum)) :\n",
    "    eachReview = TextBlob(grouped_df_sum['Positive_Review'][i])\n",
    "    reviewTags.append([])\n",
    "    for j in range(0, len(eachReview.tags)) :\n",
    "        if eachReview.tags[j][1] == 'NN' :\n",
    "            reviewTags[i].append(eachReview.tags[j][0])"
   ]
  },
  {
   "cell_type": "code",
   "execution_count": 9,
   "metadata": {},
   "outputs": [],
   "source": [
    "#for i in range(0, len(reviewTags)) :\n",
    "    #print(reviewTags[i])"
   ]
  },
  {
   "cell_type": "code",
   "execution_count": 20,
   "metadata": {},
   "outputs": [
    {
     "name": "stdout",
     "output_type": "stream",
     "text": [
      "[[('staff', 71), ('location', 46), ('room', 41), ('service', 23), ('bed', 14), ('stay', 12), ('breakfast', 9), ('time', 8), ('bathroom', 6)], [('room', 40), ('staff', 35), ('location', 34), ('breakfast', 12), ('bathroom', 12), ('design', 8), ('size', 7), ('area', 6), ('metro', 5)], [('staff', 141), ('room', 118), ('location', 113), ('bar', 42), ('place', 38), ('bed', 36), ('restaurant', 34), ('service', 30), ('area', 27)], [('location', 231), ('room', 215), ('staff', 153), ('bed', 66), ('station', 59), ('breakfast', 35), ('coffee', 34), ('machine', 32), ('value', 28)], [('room', 50), ('staff', 49), ('location', 44), ('metro', 20), ('station', 15), ('breakfast', 14), ('bed', 14), ('area', 12), ('walk', 10)], [('room', 354), ('staff', 338), ('location', 317), ('bed', 108), ('bathroom', 77), ('breakfast', 63), ('service', 49), ('bath', 45), ('stay', 45)], [('room', 295), ('staff', 240), ('location', 180), ('station', 87), ('tube', 62), ('bed', 56), ('bathroom', 47), ('value', 44), ('breakfast', 38)], [('staff', 93), ('location', 82), ('room', 79), ('breakfast', 51), ('station', 26), ('tube', 19), ('bed', 19), ('value', 13), ('glass', 12)], [('location', 10), ('staff', 10), ('room', 9), ('gym', 3), ('backyard', 2), ('cleanliness', 2), ('size', 2), ('view', 2), ('requirement', 1)], [('staff', 126), ('room', 71), ('location', 70), ('bed', 57), ('breakfast', 30), ('bathroom', 29), ('stay', 26), ('service', 25), ('bar', 24)], [('location', 29), ('staff', 24), ('room', 22), ('view', 13), ('metro', 8), ('breakfast', 7), ('everything', 6), ('bathroom', 5), ('bus', 5)], [('staff', 22), ('room', 20), ('location', 17), ('station', 7), ('metro', 7), ('bathroom', 5), ('bed', 4), ('walk', 4), ('value', 4)], [('location', 218), ('staff', 217), ('room', 201), ('breakfast', 182), ('station', 83), ('tube', 47), ('bed', 37), ('service', 29), ('value', 28)], [('location', 67), ('staff', 64), ('room', 58), ('bed', 20), ('breakfast', 17), ('metro', 17), ('station', 15), ('bathroom', 12), ('shower', 10)], [('room', 34), ('staff', 32), ('location', 25), ('breakfast', 13), ('day', 12), ('coffee', 10), ('tea', 9), ('bar', 8), ('decor', 7)], [('staff', 23), ('room', 20), ('location', 18), ('breakfast', 12), ('service', 11), ('time', 9), ('bar', 7), ('restaurant', 7), ('place', 6)], [('staff', 93), ('location', 91), ('room', 88), ('breakfast', 49), ('station', 38), ('garden', 29), ('tube', 25), ('area', 17), ('restaurant', 15)], [('room', 302), ('staff', 193), ('breakfast', 104), ('bed', 98), ('location', 95), ('bathroom', 51), ('service', 35), ('shower', 34), ('stay', 31)], [('location', 65), ('staff', 53), ('room', 37), ('breakfast', 35), ('station', 14), ('metro', 12), ('area', 8), ('access', 8), ('square', 7)], [('location', 307), ('staff', 293), ('room', 156), ('breakfast', 95), ('bed', 47), ('station', 41), ('tube', 40), ('area', 37), ('service', 30)], [('staff', 24), ('location', 19), ('room', 13), ('breakfast', 9), ('distance', 4), ('stay', 3), ('bed', 3), ('station', 3), ('tower', 3)], [('staff', 62), ('location', 56), ('room', 47), ('park', 23), ('area', 14), ('metro', 13), ('breakfast', 12), ('bed', 11), ('coffee', 9)], [('staff', 866), ('location', 741), ('room', 536), ('breakfast', 326), ('tube', 175), ('building', 144), ('bed', 137), ('station', 134), ('bar', 130)], [('location', 344), ('staff', 256), ('room', 255), ('service', 67), ('spa', 61), ('bed', 58), ('pool', 56), ('view', 42), ('s', 39)], [('staff', 51), ('room', 49), ('location', 48), ('breakfast', 26), ('bar', 15), ('coffee', 11), ('station', 11), ('mini', 11), ('bed', 9)], [('location', 38), ('staff', 30), ('room', 15), ('breakfast', 8), ('concierge', 3), ('i', 3), ('way', 3), ('stay', 3), ('place', 3)], [('staff', 82), ('room', 62), ('location', 57), ('bed', 19), ('bathroom', 12), ('reception', 9), ('station', 9), ('distance', 8), ('area', 8)], [('staff', 52), ('location', 35), ('room', 26), ('breakfast', 19), ('distance', 6), ('area', 6), ('bathroom', 6), ('bed', 5), ('everything', 5)], [('location', 104), ('staff', 83), ('room', 47), ('breakfast', 17), ('walk', 13), ('bed', 13), ('area', 12), ('stay', 11), ('reception', 10)], [('location', 53), ('staff', 47), ('room', 43), ('breakfast', 22), ('bed', 19), ('bathroom', 16), ('service', 15), ('everything', 9), ('distance', 8)], [('staff', 44), ('location', 24), ('room', 19), ('breakfast', 10), ('bed', 6), ('design', 5), ('decor', 4), ('check', 4), ('service', 4)], [('staff', 18), ('room', 12), ('location', 10), ('boutique', 5), ('breakfast', 4), ('stay', 3), ('i', 3), ('bathroom', 2), ('kind', 2)], [('staff', 16), ('room', 14), ('metro', 9), ('location', 8), ('clean', 4), ('night', 4), ('bathroom', 3), ('station', 3), ('stay', 3)], [('location', 26), ('staff', 26), ('room', 16), ('breakfast', 7), ('bed', 6), ('place', 5), ('service', 4), ('street', 4), ('i', 4)], [('staff', 28), ('room', 21), ('pool', 18), ('location', 16), ('day', 10), ('stay', 7), ('tea', 6), ('everything', 6), ('street', 5)], [('staff', 122), ('location', 121), ('room', 65), ('breakfast', 31), ('bed', 23), ('service', 20), ('bar', 16), ('bathroom', 13), ('distance', 13)], [('staff', 31), ('location', 30), ('room', 21), ('bed', 9), ('bathroom', 8), ('decor', 6), ('kind', 5), ('place', 5), ('breakfast', 5)], [('staff', 120), ('location', 118), ('room', 101), ('view', 33), ('breakfast', 31), ('tower', 25), ('phone', 19), ('service', 19), ('metro', 18)], [('location', 46), ('staff', 34), ('room', 21), ('breakfast', 13), ('metro', 8), ('bed', 8), ('station', 6), ('night', 4), ('river', 3)], [('staff', 45), ('location', 34), ('room', 34), ('breakfast', 15), ('everything', 13), ('service', 11), ('decor', 10), ('pool', 9), ('bar', 8)], [('location', 66), ('room', 50), ('staff', 46), ('station', 24), ('tube', 21), ('breakfast', 21), ('park', 21), ('bed', 16), ('day', 10)], [('location', 37), ('staff', 30), ('room', 29), ('breakfast', 13), ('service', 10), ('bed', 10), ('lounge', 7), ('shower', 6), ('everything', 6)], [('location', 301), ('staff', 242), ('room', 172), ('breakfast', 160), ('shopping', 76), ('bed', 41), ('station', 36), ('centre', 33), ('choice', 31)], [('location', 104), ('room', 83), ('staff', 78), ('station', 53), ('breakfast', 43), ('train', 28), ('bed', 20), ('walk', 15), ('reception', 14)], [('location', 8), ('staff', 8), ('room', 6), ('breakfast', 5), ('bed', 3), ('view', 2), ('bathroom', 2), ('attitude', 1), ('metro', 1)], [('room', 136), ('staff', 123), ('location', 71), ('bed', 51), ('building', 46), ('park', 44), ('restaurant', 31), ('breakfast', 29), ('area', 27)], [('staff', 8), ('location', 7), ('room', 5), ('balcony', 3), ('concierge', 3), ('hop', 3), ('bed', 2), ('time', 2), ('walk', 2)], [('staff', 26), ('location', 20), ('room', 17), ('metro', 6), ('station', 6), ('bed', 6), ('everything', 5), ('stay', 4), ('walk', 4)], [('staff', 76), ('room', 57), ('location', 51), ('bathroom', 15), ('area', 15), ('station', 13), ('breakfast', 11), ('design', 11), ('time', 11)], [('location', 36), ('pool', 32), ('staff', 29), ('room', 19), ('area', 12), ('day', 9), ('breakfast', 9), ('steam', 6), ('design', 6)], [('staff', 23), ('room', 10), ('location', 8), ('area', 5), ('distance', 3), ('bed', 3), ('reception', 2), ('street', 2), ('minute', 2)], [('staff', 38), ('location', 24), ('room', 12), ('street', 6), ('breakfast', 5), ('bed', 5), ('day', 4), ('neighborhood', 3), ('everything', 3)], [('location', 35), ('staff', 30), ('room', 14), ('breakfast', 7), ('price', 4), ('balcony', 3), ('everything', 3), ('team', 3), ('reception', 3)], [('location', 53), ('staff', 50), ('room', 21), ('breakfast', 12), ('service', 10), ('bar', 9), ('view', 8), ('everything', 8), ('time', 6)], [('location', 34), ('staff', 28), ('room', 11), ('bed', 6), ('walk', 6), ('breakfast', 6), ('value', 4), ('money', 4), ('minute', 4)], [('location', 75), ('staff', 69), ('room', 24), ('breakfast', 14), ('service', 10), ('stay', 8), ('bed', 7), ('distance', 6), ('bathroom', 5)], [('location', 101), ('staff', 91), ('room', 74), ('breakfast', 21), ('distance', 16), ('bathroom', 15), ('bed', 14), ('everything', 12), ('place', 11)], [('room', 33), ('staff', 26), ('location', 25), ('design', 19), ('bed', 12), ('breakfast', 7), ('bathroom', 6), ('balcony', 4), ('decor', 4)], [('staff', 47), ('location', 45), ('room', 27), ('service', 14), ('breakfast', 9), ('bed', 8), ('reception', 8), ('concierge', 8), ('stay', 5)], [('staff', 10), ('room', 8), ('location', 5), ('service', 4), ('distance', 2), ('du', 2), ('reception', 2), ('bathroom', 2), ('cafes', 2), ('area', 2)], [('location', 87), ('room', 74), ('staff', 64), ('breakfast', 33), ('view', 27), ('floor', 11), ('bathroom', 10), ('time', 8), ('bed', 8)], [('location', 45), ('staff', 26), ('room', 21), ('everything', 6), ('bathroom', 5), ('champagne', 5), ('size', 4), ('bed', 4), ('touch', 4)], [('staff', 43), ('location', 35), ('room', 27), ('breakfast', 18), ('service', 17), ('bed', 6), ('stay', 6), ('everything', 6), ('reception', 5)], [('staff', 872), ('room', 622), ('location', 366), ('breakfast', 291), ('bed', 272), ('view', 264), ('service', 187), ('bar', 169), ('stay', 122)], [('location', 195), ('staff', 163), ('breakfast', 134), ('room', 122), ('station', 63), ('garden', 59), ('tube', 55), ('bed', 30), ('area', 29)], [('staff', 56), ('location', 40), ('room', 28), ('service', 15), ('bathroom', 9), ('breakfast', 9), ('design', 8), ('everything', 7), ('food', 6)], [('room', 7), ('staff', 5), ('water', 2), ('decor', 2), ('experience', 2), ('bag', 2), ('money', 2), ('ice', 1), ('bar', 1)], [('staff', 31), ('location', 16), ('room', 16), ('service', 9), ('breakfast', 9), ('decor', 7), ('bed', 6), ('stay', 5), ('place', 5)], [('location', 27), ('staff', 23), ('room', 7), ('service', 5), ('bed', 5), ('stuff', 3), ('breakfast', 3), ('Location', 2), ('size', 2)], [('staff', 17), ('pool', 11), ('location', 9), ('area', 5), ('breakfast', 5), ('decor', 4), ('room', 3), ('bed', 3), ('stay', 3)], [('staff', 20), ('room', 8), ('area', 8), ('everything', 4), ('property', 4), ('walk', 4), ('bed', 4), ('price', 3), ('location', 3)], [('staff', 24), ('location', 17), ('room', 13), ('bar', 12), ('breakfast', 9), ('bed', 5), ('day', 5), ('evening', 3), ('station', 3)], [('staff', 70), ('room', 32), ('breakfast', 32), ('location', 29), ('afternoon', 17), ('bar', 11), ('stay', 8), ('tea', 8), ('cinema', 8)], [('staff', 18), ('room', 18), ('location', 15), ('bed', 8), ('bar', 7), ('champagne', 5), ('view', 4), ('suite', 4), ('service', 4)], [('staff', 30), ('room', 17), ('location', 16), ('bed', 6), ('coffee', 5), ('breakfast', 5), ('station', 4), ('shower', 4), ('metro', 3)], [('staff', 49), ('room', 41), ('breakfast', 35), ('location', 29), ('bed', 8), ('station', 8), ('metro', 7), ('walk', 7), ('area', 6)], [('staff', 28), ('room', 24), ('location', 22), ('breakfast', 10), ('station', 9), ('l', 8), ('train', 8), ('bed', 6), ('floor', 6)], [('staff', 29), ('location', 25), ('room', 15), ('pool', 6), ('breakfast', 5), ('bed', 5), ('view', 5), ('price', 4), ('trip', 3)], [('room', 162), ('staff', 137), ('view', 107), ('location', 96), ('tower', 48), ('bed', 38), ('walk', 34), ('breakfast', 31), ('metro', 29)], [('staff', 14), ('location', 11), ('room', 7), ('service', 4), ('distance', 3), ('area', 3), ('design', 3), ('breakfast', 3), ('bed', 3)], [('staff', 38), ('location', 37), ('room', 18), ('breakfast', 8), ('value', 6), ('bed', 5), ('area', 5), ('distance', 4), ('place', 4)], [('location', 46), ('staff', 33), ('room', 29), ('bed', 10), ('breakfast', 9), ('area', 9), ('bar', 6), ('night', 6), ('time', 5)], [('staff', 50), ('location', 38), ('room', 28), ('bed', 14), ('breakfast', 14), ('shower', 10), ('bar', 10), ('comfy', 7), ('walk', 7)], [('staff', 212), ('location', 91), ('breakfast', 74), ('room', 67), ('service', 31), ('pool', 24), ('food', 20), ('lounge', 19), ('bed', 18)], [('staff', 265), ('room', 144), ('location', 96), ('pool', 78), ('breakfast', 77), ('restaurant', 46), ('service', 39), ('stay', 34), ('food', 32)], [('staff', 37), ('room', 15), ('service', 14), ('location', 13), ('pool', 12), ('bar', 11), ('decor', 10), ('spa', 8), ('stay', 7)], [('room', 26), ('location', 21), ('staff', 13), ('bed', 9), ('station', 8), ('kitchen', 6), ('area', 5), ('service', 5), ('floor', 4)], [('room', 11), ('staff', 10), ('location', 9), ('reception', 4), ('bed', 4), ('area', 3), ('metro', 3), ('Location', 2), ('distance', 2)], [('staff', 6), ('room', 2), ('kindness', 2), ('shape', 1), ('everything', 1), ('hand', 1), ('reception', 1), ('overall', 1), ('distance', 1)], [('staff', 215), ('location', 185), ('room', 148), ('breakfast', 90), ('bed', 50), ('station', 23), ('service', 19), ('bathroom', 19), ('value', 19)], [('staff', 2), ('breakfast', 2), ('style', 2), ('clean', 2), ('bed', 2), ('check', 1), ('language', 1), ('issue', 1), ('mix', 1)], [('staff', 28), ('location', 18), ('room', 15), ('station', 8), ('breakfast', 7), ('walk', 5), ('metro', 4), ('view', 4), ('bed', 3)], [('staff', 52), ('room', 17), ('location', 16), ('service', 14), ('home', 7), ('stay', 6), ('breakfast', 6), ('day', 5), ('trouble', 4)], [('location', 50), ('staff', 32), ('room', 28), ('bed', 9), ('breakfast', 6), ('service', 5), ('size', 5), ('area', 4), ('bar', 4)], [('staff', 15), ('room', 14), ('location', 10), ('bed', 7), ('area', 5), ('day', 3), ('reception', 3), ('service', 3), ('breakfast', 3)], [('location', 165), ('staff', 135), ('room', 111), ('bed', 47), ('breakfast', 32), ('bathroom', 21), ('comfy', 19), ('bakery', 17), ('coffee', 16)], [('room', 111), ('location', 102), ('staff', 96), ('breakfast', 39), ('station', 23), ('tube', 20), ('bed', 20), ('service', 14), ('bar', 14)], [('staff', 95), ('location', 69), ('room', 55), ('breakfast', 39), ('bed', 23), ('view', 14), ('service', 13), ('walk', 10), ('size', 10)], [('staff', 363), ('room', 284), ('location', 216), ('breakfast', 206), ('bed', 78), ('bar', 62), ('tube', 62), ('food', 62), ('station', 59)], [('room', 67), ('staff', 27), ('location', 10), ('breakfast', 10), ('bed', 8), ('food', 6), ('station', 6), ('walk', 5), ('machine', 5)], [('staff', 63), ('location', 34), ('room', 33), ('bar', 18), ('service', 14), ('food', 8), ('pool', 8), ('night', 7), ('bed', 7)], [('location', 45), ('staff', 30), ('room', 24), ('bed', 13), ('breakfast', 9), ('night', 6), ('distance', 5), ('street', 5), ('check', 4)], [('staff', 275), ('room', 169), ('location', 126), ('service', 57), ('stay', 42), ('bed', 32), ('breakfast', 32), ('station', 30), ('phone', 27)], [('room', 138), ('location', 112), ('staff', 109), ('breakfast', 64), ('station', 33), ('tube', 29), ('bar', 26), ('bed', 24), ('food', 20)], [('room', 722), ('staff', 646), ('location', 564), ('view', 201), ('breakfast', 151), ('service', 111), ('bed', 110), ('food', 74), ('stay', 73)], [('staff', 212), ('location', 179), ('room', 127), ('breakfast', 61), ('bed', 49), ('bar', 36), ('service', 31), ('food', 27), ('station', 19)], [('staff', 441), ('room', 310), ('location', 281), ('breakfast', 212), ('bed', 83), ('service', 72), ('station', 64), ('food', 42), ('check', 35)], [('staff', 73), ('breakfast', 40), ('room', 40), ('location', 35), ('station', 18), ('metro', 15), ('bed', 14), ('food', 13), ('area', 13)], [('staff', 417), ('location', 383), ('room', 354), ('breakfast', 276), ('station', 143), ('bed', 88), ('tube', 78), ('service', 63), ('food', 53)], [('location', 299), ('room', 162), ('staff', 118), ('view', 95), ('floor', 39), ('bar', 31), ('bed', 29), ('restaurant', 27), ('price', 24)], [('location', 121), ('room', 98), ('staff', 83), ('breakfast', 30), ('view', 20), ('bathroom', 18), ('bed', 16), ('shower', 13), ('area', 12)], [('staff', 13), ('room', 12), ('view', 11), ('service', 7), ('stay', 6), ('concierge', 5), ('food', 4), ('bed', 3), ('daughter', 3)], [('staff', 177), ('location', 151), ('room', 124), ('station', 86), ('tube', 49), ('breakfast', 31), ('bed', 29), ('shopping', 27), ('value', 25)], [('staff', 71), ('location', 58), ('room', 50), ('service', 22), ('bed', 21), ('bathroom', 13), ('breakfast', 12), ('stay', 11), ('restaurant', 11)], [('location', 63), ('staff', 51), ('room', 43), ('view', 33), ('balcony', 11), ('stay', 10), ('metro', 8), ('station', 6), ('floor', 5)], [('location', 80), ('breakfast', 79), ('staff', 72), ('room', 70), ('bed', 18), ('bathroom', 11), ('shower', 11), ('size', 11), ('value', 11)], [('staff', 154), ('room', 125), ('location', 117), ('breakfast', 89), ('bed', 27), ('everything', 25), ('home', 24), ('shopping', 23), ('coffee', 22)], [('staff', 109), ('room', 82), ('breakfast', 67), ('location', 52), ('station', 27), ('coffee', 20), ('area', 19), ('home', 18), ('dog', 16)], [('staff', 85), ('view', 61), ('room', 58), ('location', 53), ('bar', 36), ('terrace', 27), ('restaurant', 24), ('breakfast', 19), ('reception', 12)], [('staff', 146), ('location', 136), ('room', 87), ('bed', 40), ('station', 30), ('service', 25), ('breakfast', 24), ('tube', 24), ('bathroom', 22)], [('staff', 54), ('room', 46), ('location', 45), ('bed', 10), ('area', 9), ('view', 9), ('bar', 8), ('stay', 8), ('comfy', 7)], [('location', 169), ('room', 162), ('staff', 132), ('station', 106), ('tube', 87), ('breakfast', 44), ('restaurant', 33), ('street', 30), ('bed', 30)], [('staff', 41), ('room', 31), ('location', 21), ('bed', 17), ('breakfast', 13), ('everything', 8), ('stay', 6), ('area', 5), ('bathroom', 5)], [('room', 385), ('staff', 350), ('location', 228), ('breakfast', 153), ('bed', 102), ('bar', 83), ('beer', 58), ('food', 57), ('bathroom', 54)], [('staff', 39), ('room', 38), ('location', 37), ('bed', 24), ('tea', 11), ('breakfast', 11), ('area', 10), ('decor', 9), ('tube', 8)], [('location', 437), ('staff', 431), ('room', 339), ('station', 141), ('bed', 102), ('breakfast', 86), ('service', 72), ('food', 57), ('entrance', 51)], [('staff', 12), ('room', 5), ('location', 5), ('everything', 3), ('bed', 3), ('quality', 2), ('issue', 2), ('stay', 2), ('luxury', 1)], [('staff', 134), ('location', 83), ('room', 48), ('service', 31), ('bar', 23), ('area', 22), ('breakfast', 17), ('food', 16), ('lounge', 16)], [('staff', 51), ('location', 27), ('room', 27), ('bar', 16), ('lobby', 15), ('restaurant', 15), ('service', 13), ('bathroom', 8), ('comfy', 8)], [('staff', 202), ('location', 201), ('room', 160), ('service', 41), ('kitchenette', 27), ('bed', 27), ('kitchen', 24), ('machine', 24), ('everything', 20)], [('staff', 276), ('room', 213), ('location', 194), ('bed', 49), ('station', 37), ('kitchenette', 35), ('service', 34), ('stay', 32), ('everything', 29)], [('staff', 535), ('room', 467), ('location', 364), ('breakfast', 169), ('bed', 121), ('station', 109), ('service', 66), ('stay', 63), ('tube', 56)], [('location', 66), ('staff', 44), ('room', 39), ('view', 15), ('size', 14), ('bed', 12), ('service', 12), ('breakfast', 10), ('comfort', 8)], [('staff', 438), ('location', 430), ('room', 341), ('building', 111), ('breakfast', 102), ('station', 76), ('bar', 69), ('tube', 65), ('service', 65)], [('location', 226), ('room', 195), ('staff', 194), ('breakfast', 145), ('service', 45), ('bar', 36), ('bed', 30), ('choice', 29), ('time', 27)], [('staff', 56), ('room', 30), ('location', 30), ('breakfast', 29), ('food', 28), ('pub', 19), ('coffee', 14), ('place', 14), ('bar', 12)], [('staff', 23), ('location', 13), ('service', 11), ('room', 7), ('car', 4), ('bathroom', 3), ('bed', 3), ('stay', 3), ('class', 2)], [('staff', 269), ('location', 258), ('room', 203), ('breakfast', 141), ('park', 66), ('station', 56), ('view', 50), ('tube', 42), ('bed', 40)], [('location', 75), ('staff', 63), ('room', 60), ('bed', 18), ('design', 17), ('bar', 16), ('service', 12), ('style', 9), ('stay', 9)], [('location', 107), ('staff', 96), ('room', 65), ('bed', 19), ('bathroom', 13), ('service', 12), ('reception', 12), ('breakfast', 11), ('distance', 11)], [('staff', 11), ('location', 7), ('room', 4), ('stay', 3), ('night', 2), ('desk', 2), ('street', 2), ('station', 2), ('size', 2)]]\n"
     ]
    }
   ],
   "source": [
    "allmostOccurTags = []\n",
    "from collections import Counter\n",
    "for i in range(0,len(reviewTags)):\n",
    "    counter = Counter(reviewTags[i])\n",
    "    mostOccurTag = counter.most_common(10) \n",
    "    for i in range (0,len(mostOccurTag)-1):\n",
    "        if mostOccurTag[i][0] == 'hotel' :\n",
    "             mostOccurTag.pop(i)\n",
    "    allmostOccurTags.append(mostOccurTag)\n",
    "print(allmostOccurTags)"
   ]
  },
  {
   "cell_type": "code",
   "execution_count": 30,
   "metadata": {},
   "outputs": [
    {
     "name": "stdout",
     "output_type": "stream",
     "text": [
      "[('staff', 141), ('room', 140), ('location', 137), ('breakfast', 110), ('bed', 108), ('service', 58), ('station', 49), ('bathroom', 36), ('stay', 34), ('area', 33), ('bar', 33), ('view', 22), ('everything', 21), ('metro', 19), ('tube', 19)]\n"
     ]
    }
   ],
   "source": [
    "allterms = []\n",
    "for i in range(0, len(allmostOccurTags)) :\n",
    "    for j in range(0, len(allmostOccurTags[i])):\n",
    "        allterms.append(allmostOccurTags[i][j][0])\n",
    "counter = Counter(allterms)\n",
    "mostterms = counter.most_common(15)\n",
    "print(mostterms)"
   ]
  },
  {
   "cell_type": "code",
   "execution_count": null,
   "metadata": {},
   "outputs": [],
   "source": []
  }
 ],
 "metadata": {
  "kernelspec": {
   "display_name": "Python 3",
   "language": "python",
   "name": "python3"
  },
  "language_info": {
   "codemirror_mode": {
    "name": "ipython",
    "version": 3
   },
   "file_extension": ".py",
   "mimetype": "text/x-python",
   "name": "python",
   "nbconvert_exporter": "python",
   "pygments_lexer": "ipython3",
   "version": "3.6.5"
  }
 },
 "nbformat": 4,
 "nbformat_minor": 2
}
