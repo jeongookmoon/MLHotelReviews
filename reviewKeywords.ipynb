{
 "cells": [
  {
   "cell_type": "code",
   "execution_count": 1,
   "metadata": {},
   "outputs": [],
   "source": [
    "%matplotlib inline\n",
    "import matplotlib.pyplot as plt\n",
    "import numpy as np\n",
    "import scipy as sp\n",
    "import pandas as pd\n",
    "from sklearn import datasets, linear_model\n",
    "from textblob import TextBlob"
   ]
  },
  {
   "cell_type": "code",
   "execution_count": 2,
   "metadata": {},
   "outputs": [],
   "source": [
    "train = pd.read_csv(\"./Hotel_Reviews.csv\",usecols=['Hotel_Name','Positive_Review'])\n",
    "train = train.iloc[0:10000,]"
   ]
  },
  {
   "cell_type": "code",
   "execution_count": 3,
   "metadata": {},
   "outputs": [],
   "source": [
    "grouped_df = train.groupby('Hotel_Name')\n",
    "grouped_df_sum = train.groupby('Hotel_Name').apply(lambda x: x.sum())\n",
    "\n",
    "#from multi_rake import Rake\n",
    "#rake = Rake()\n",
    "#print(rake.apply(grouped_df_sum['Positive_Review'][1]))\n",
    "#print(rake.apply(grouped_df_sum['Positive_Review'].values[0]))\n",
    "#print(len(grouped_df_sum.to_string()))\n",
    "#for i in range(0, len(grouped_df_sum)):\n",
    "    #print(rake.apply(grouped_df_sum['Positive_Review'][i]))"
   ]
  },
  {
   "cell_type": "code",
   "execution_count": 4,
   "metadata": {},
   "outputs": [],
   "source": [
    "#train = train.iloc[1:10,]"
   ]
  },
  {
   "cell_type": "code",
   "execution_count": 5,
   "metadata": {},
   "outputs": [],
   "source": [
    "#print(train)"
   ]
  },
  {
   "cell_type": "code",
   "execution_count": 6,
   "metadata": {},
   "outputs": [],
   "source": [
    "#train_X = train.Positive_Review[:, np.newaxis]"
   ]
  },
  {
   "cell_type": "code",
   "execution_count": 7,
   "metadata": {},
   "outputs": [],
   "source": [
    "#print(train)"
   ]
  },
  {
   "cell_type": "code",
   "execution_count": 8,
   "metadata": {},
   "outputs": [
    {
     "name": "stdout",
     "output_type": "stream",
     "text": [
      "{'Apex Temple Court Hotel': [0, 0, 0, 0, 0, 0, 0, 0, 0, 0, 0, 0, 0, 0], 'Grand Royale London Hyde Park': [0, 0, 0, 0, 0, 0, 0, 0, 0, 0, 0, 0, 0, 0], 'Hotel Arena': [0, 0, 0, 0, 0, 0, 0, 0, 0, 0, 0, 0, 0, 0], 'Hotel Trianon Rive Gauche': [0, 0, 0, 0, 0, 0, 0, 0, 0, 0, 0, 0, 0, 0], 'InterContinental London Park Lane': [0, 0, 0, 0, 0, 0, 0, 0, 0, 0, 0, 0, 0, 0], 'K K Hotel George': [0, 0, 0, 0, 0, 0, 0, 0, 0, 0, 0, 0, 0, 0], 'Kube Hotel Ice Bar': [0, 0, 0, 0, 0, 0, 0, 0, 0, 0, 0, 0, 0, 0], 'Monhotel Lounge SPA': [0, 0, 0, 0, 0, 0, 0, 0, 0, 0, 0, 0, 0, 0], 'Novotel Suites Paris Nord 18 me': [0, 0, 0, 0, 0, 0, 0, 0, 0, 0, 0, 0, 0, 0], 'One Aldwych': [0, 0, 0, 0, 0, 0, 0, 0, 0, 0, 0, 0, 0, 0], 'Park Plaza County Hall London': [0, 0, 0, 0, 0, 0, 0, 0, 0, 0, 0, 0, 0, 0], 'Splendid Etoile': [0, 0, 0, 0, 0, 0, 0, 0, 0, 0, 0, 0, 0, 0], 'The Park Grand London Paddington': [0, 0, 0, 0, 0, 0, 0, 0, 0, 0, 0, 0, 0, 0], 'The Principal London': [0, 0, 0, 0, 0, 0, 0, 0, 0, 0, 0, 0, 0, 0]}\n"
     ]
    }
   ],
   "source": [
    "keywordArray = {}\n",
    "attributes = {}\n",
    "attributes['staff'] = 0\n",
    "attributes['room'] = 1\n",
    "attributes['location'] = 2\n",
    "attributes['breakfast'] = 3\n",
    "attributes['bed']=4\n",
    "attributes['service']=5\n",
    "attributes['station'] = 6\n",
    "attributes['bathroom'] = 7\n",
    "attributes['area'] = 8\n",
    "attributes['bar'] = 9\n",
    "attributes['view']= 10\n",
    "attributes['metro'] = 11\n",
    "attributes['tube'] = 12\n",
    "attributes['food'] = 13\n",
    "\n",
    "keyArr = grouped_df.groups.keys()\n",
    "for k in keyArr :\n",
    "    keywordArray[k] = [0, 0, 0, 0, 0, 0, 0, 0, 0, 0, 0,0, 0, 0]\n",
    "print(keywordArray)"
   ]
  },
  {
   "cell_type": "code",
   "execution_count": 9,
   "metadata": {},
   "outputs": [],
   "source": [
    "reviewTags = []\n",
    "#for i in range(0,len(train_X)):\n",
    " #   eachReview = TextBlob(train_X[i][0])\n",
    "    #print(eachReview.noun_phrases)\n",
    "    #print(eachReview.tags)\n",
    "  #  for j in range(0,len(eachReview.tags)):\n",
    "   #     if eachReview.tags[j][1] == 'NN' :\n",
    "            #print(eachReview.tags[j][0])\n",
    "          #  reviewTags.append(eachReview.tags[j][0])\n",
    "for i in range(0, len(grouped_df_sum)) :\n",
    "    eachReview = TextBlob(grouped_df_sum['Positive_Review'][i])\n",
    "    reviewTags.append([])\n",
    "    for j in range(0, len(eachReview.tags)) :\n",
    "        if eachReview.tags[j][1] == 'NN' :\n",
    "            reviewTags[i].append(eachReview.tags[j][0])"
   ]
  },
  {
   "cell_type": "code",
   "execution_count": 10,
   "metadata": {},
   "outputs": [],
   "source": [
    "#for i in range(0, len(reviewTags)) :\n",
    "    #print(reviewTags[i])"
   ]
  },
  {
   "cell_type": "code",
   "execution_count": 21,
   "metadata": {},
   "outputs": [
    {
     "name": "stdout",
     "output_type": "stream",
     "text": [
      "['Apex Temple Court Hotel', 'Grand Royale London Hyde Park', 'Hotel Arena', 'Hotel Trianon Rive Gauche', 'InterContinental London Park Lane', 'K K Hotel George', 'Kube Hotel Ice Bar', 'Monhotel Lounge SPA', 'Novotel Suites Paris Nord 18 me', 'One Aldwych', 'Park Plaza County Hall London', 'Splendid Etoile', 'The Park Grand London Paddington', 'The Principal London']\n",
      "[[('room', 354), ('staff', 338), ('location', 317), ('bed', 108), ('bathroom', 77), ('breakfast', 63), ('service', 49), ('bath', 45), ('stay', 45)], [('staff', 581), ('location', 477), ('room', 429), ('breakfast', 234), ('tube', 142), ('building', 104), ('bed', 101), ('reception', 97), ('station', 97)], [('room', 136), ('staff', 123), ('location', 71), ('bed', 51), ('building', 46), ('park', 44), ('restaurant', 31), ('breakfast', 29), ('area', 27)], [('location', 87), ('room', 74), ('staff', 64), ('breakfast', 33), ('view', 27), ('floor', 11), ('bathroom', 10), ('time', 8), ('bed', 8)], [('staff', 43), ('location', 35), ('room', 27), ('breakfast', 18), ('service', 17), ('bed', 6), ('stay', 6), ('everything', 6), ('reception', 5)], [('location', 195), ('staff', 163), ('breakfast', 134), ('room', 122), ('station', 63), ('garden', 59), ('tube', 55), ('bed', 30), ('area', 29)], [('room', 7), ('staff', 5), ('water', 2), ('decor', 2), ('experience', 2), ('bag', 2), ('money', 2), ('ice', 1), ('bar', 1)], [('staff', 15), ('room', 14), ('location', 10), ('bed', 7), ('area', 5), ('day', 3), ('reception', 3), ('service', 3), ('breakfast', 3)], [('room', 67), ('staff', 27), ('location', 10), ('breakfast', 10), ('bed', 8), ('food', 6), ('station', 6), ('walk', 5), ('machine', 5)], [('staff', 63), ('location', 34), ('room', 33), ('bar', 18), ('service', 14), ('food', 8), ('pool', 8), ('night', 7), ('bed', 7)], [('room', 722), ('staff', 646), ('location', 564), ('view', 201), ('breakfast', 151), ('service', 111), ('bed', 110), ('food', 74), ('stay', 73)], [('location', 63), ('staff', 51), ('room', 43), ('view', 33), ('balcony', 11), ('stay', 10), ('metro', 8), ('station', 6), ('floor', 5)], [('staff', 535), ('room', 467), ('location', 364), ('breakfast', 169), ('bed', 121), ('station', 109), ('service', 66), ('stay', 63), ('tube', 56)], [('staff', 438), ('location', 430), ('room', 341), ('building', 111), ('breakfast', 102), ('station', 76), ('bar', 69), ('tube', 65), ('service', 65)]]\n",
      "{'Apex Temple Court Hotel': [338, 354, 317, 63, 108, 49, 49, 77, 0, 0, 0, 0, 0, 0], 'Grand Royale London Hyde Park': [581, 429, 477, 234, 101, 0, 97, 0, 97, 0, 0, 0, 142, 0], 'Hotel Arena': [123, 136, 71, 29, 51, 0, 0, 29, 27, 0, 0, 0, 0, 0], 'Hotel Trianon Rive Gauche': [64, 74, 87, 33, 8, 0, 10, 10, 8, 0, 27, 0, 0, 0], 'InterContinental London Park Lane': [43, 27, 35, 18, 6, 17, 0, 0, 0, 0, 0, 0, 0, 0], 'K K Hotel George': [163, 122, 195, 134, 30, 0, 63, 30, 29, 0, 0, 0, 55, 0], 'Kube Hotel Ice Bar': [5, 7, 0, 0, 0, 0, 0, 0, 1, 1, 0, 0, 0, 0], 'Monhotel Lounge SPA': [15, 14, 10, 3, 7, 3, 0, 3, 5, 0, 0, 0, 0, 0], 'Novotel Suites Paris Nord 18 me': [27, 67, 10, 10, 8, 6, 6, 0, 0, 0, 0, 0, 0, 6], 'One Aldwych': [63, 33, 34, 18, 7, 14, 0, 0, 7, 18, 0, 0, 0, 8], 'Park Plaza County Hall London': [646, 722, 564, 151, 110, 111, 110, 74, 0, 0, 201, 0, 0, 74], 'Splendid Etoile': [51, 43, 63, 33, 0, 0, 6, 6, 0, 0, 33, 8, 0, 0], 'The Park Grand London Paddington': [535, 467, 364, 169, 121, 66, 109, 0, 56, 0, 0, 0, 56, 0], 'The Principal London': [438, 341, 430, 102, 102, 65, 76, 65, 65, 69, 0, 0, 65, 0]}\n"
     ]
    }
   ],
   "source": [
    "hotelnames = []\n",
    "for k in keywordArray.keys() :\n",
    "    hotelnames.append(k)\n",
    "print(hotelnames)\n",
    "allmostOccurTags = []\n",
    "from collections import Counter\n",
    "for i in range(0,len(reviewTags)):\n",
    "    counter = Counter(reviewTags[i])\n",
    "    mostOccurTag = counter.most_common(10) \n",
    "    for j in range (0,len(mostOccurTag)-1):\n",
    "        if mostOccurTag[j][0] == 'hotel' :\n",
    "             mostOccurTag.pop(j)\n",
    "        for k in range(0, len(mostOccurTag)):\n",
    "            if mostOccurTag[j][0] in attributes :\n",
    "                keywordArray[hotelnames[i]][attributes.get(mostOccurTag[j][0])] = mostOccurTag[j][1]\n",
    "                #attrs = keywordArray.keys()[i]\n",
    "                #print(keywordArray.keys())\n",
    "                #attrs[j] = mostOccurTag[j][1]\n",
    "    allmostOccurTags.append(mostOccurTag)\n",
    "print(allmostOccurTags)\n",
    "print(keywordArray)"
   ]
  },
  {
   "cell_type": "code",
   "execution_count": null,
   "metadata": {},
   "outputs": [],
   "source": [
    "allterms = []\n",
    "for i in range(0, len(allmostOccurTags)) :\n",
    "    for j in range(0, len(allmostOccurTags[i])):\n",
    "        allterms.append(allmostOccurTags[i][j][0])\n",
    "counter = Counter(allterms)\n",
    "mostterms = counter.most_common(16)\n",
    "print(mostterms)"
   ]
  },
  {
   "cell_type": "code",
   "execution_count": null,
   "metadata": {},
   "outputs": [],
   "source": [
    "\n",
    "\n"
   ]
  },
  {
   "cell_type": "code",
   "execution_count": null,
   "metadata": {},
   "outputs": [],
   "source": []
  }
 ],
 "metadata": {
  "kernelspec": {
   "display_name": "Python 3",
   "language": "python",
   "name": "python3"
  },
  "language_info": {
   "codemirror_mode": {
    "name": "ipython",
    "version": 3
   },
   "file_extension": ".py",
   "mimetype": "text/x-python",
   "name": "python",
   "nbconvert_exporter": "python",
   "pygments_lexer": "ipython3",
   "version": "3.6.5"
  }
 },
 "nbformat": 4,
 "nbformat_minor": 2
}
