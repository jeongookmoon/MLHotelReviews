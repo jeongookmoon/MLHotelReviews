{
 "cells": [
  {
   "cell_type": "code",
   "execution_count": 20,
   "metadata": {},
   "outputs": [],
   "source": [
    "%matplotlib inline"
   ]
  },
  {
   "cell_type": "code",
   "execution_count": 21,
   "metadata": {},
   "outputs": [],
   "source": [
    "import matplotlib.pyplot as plt\n",
    "import numpy as np\n",
    "import scipy as sp\n",
    "import pandas as pd\n",
    "import copy\n",
    "import time\n",
    "\n",
    "from multi_rake import Rake\n",
    "from sklearn import datasets, linear_model\n",
    "\n",
    "# ls in data location\n",
    "# import os\n",
    "# print(os.listdir(\"./data\"))"
   ]
  },
  {
   "cell_type": "code",
   "execution_count": 22,
   "metadata": {},
   "outputs": [],
   "source": [
    "reviewsRawData = pd.read_csv(\"./data/Hotel_Reviews.csv\", usecols=['Positive_Review', 'Negative_Review', 'Reviewer_Score'])"
   ]
  },
  {
   "cell_type": "code",
   "execution_count": 23,
   "metadata": {},
   "outputs": [
    {
     "data": {
      "text/plain": [
       "Negative_Review    515738\n",
       "Positive_Review    515738\n",
       "Reviewer_Score     515738\n",
       "dtype: int64"
      ]
     },
     "execution_count": 23,
     "metadata": {},
     "output_type": "execute_result"
    }
   ],
   "source": [
    "# to make sure there's no empty attribute\n",
    "reviewsRawData.count()"
   ]
  },
  {
   "cell_type": "code",
   "execution_count": 24,
   "metadata": {
    "scrolled": true
   },
   "outputs": [],
   "source": [
    "#since there's no empty attribute, we can seperate each column to convert reviews to numberic values\n",
    "reviewsRawDataPos = reviewsRawData.Positive_Review[0:515738, np.newaxis]\n",
    "reviewsRawDataNeg = reviewsRawData.Negative_Review[:515738, np.newaxis]\n",
    "reviewerScore = reviewsRawData.Reviewer_Score[:515738, np.newaxis]"
   ]
  },
  {
   "cell_type": "code",
   "execution_count": 25,
   "metadata": {},
   "outputs": [
    {
     "name": "stdout",
     "output_type": "stream",
     "text": [
      "Time taken for conversion: 2.769199593861898 minutes \n"
     ]
    }
   ],
   "source": [
    "rake = Rake()\n",
    "\n",
    "reviewsNumData = copy.deepcopy(reviewsRawDataPos);\n",
    "\n",
    "start_time = time.time()\n",
    "\n",
    "for i in range(0, len(reviewsRawDataPos)):\n",
    "    reviewsNumData[i][0] = 0\n",
    "    # get important keywords with weight for each positive review\n",
    "    posKeywords = rake.apply(reviewsRawDataPos[i][0])\n",
    "    # each keyword's weight gets added up\n",
    "    for eachTuple in posKeywords:\n",
    "        reviewsNumData[i][0]= reviewsNumData[i][0] + eachTuple[1]/10\n",
    "    \n",
    "    # get important keywords with weight for each negative review\n",
    "    negKeywords = rake.apply(reviewsRawDataNeg[i][0])\n",
    "    # each keyword's weight gets subtracted\n",
    "    for eachTuple in negKeywords:\n",
    "        reviewsNumData[i][0]= reviewsNumData[i][0] - eachTuple[1]/10\n",
    "\n",
    "    #print(reviewsNumData[i])\n",
    "\n",
    "# con: due to size of the data, conversion takes time (~5mins)\n",
    "print(\"Time taken for conversion: %s minutes \" % ((time.time() - start_time)/60))"
   ]
  },
  {
   "cell_type": "code",
   "execution_count": 26,
   "metadata": {},
   "outputs": [
    {
     "name": "stdout",
     "output_type": "stream",
     "text": [
      "415738\n",
      "100000\n",
      "415738\n",
      "100000\n"
     ]
    }
   ],
   "source": [
    "# This part was made with referencing Linear regression - OLS vs GD\n",
    "# Split the data into training/testing sets\n",
    "reviews_X_train = copy.deepcopy(reviewsNumData[100000:]) # training set = all but last 84000 instances\n",
    "reviews_X_test = copy.deepcopy(reviewsNumData[0:100000])  #test set = last 84000 instances\n",
    "print(len(reviews_X_train))\n",
    "print(len(reviews_X_test))\n",
    "# Split the targets into training/testing sets\n",
    "reviews_Y_train = copy.deepcopy(reviewerScore[100000:])\n",
    "reviews_Y_test = copy.deepcopy(reviewerScore[0:100000])\n",
    "print(len(reviews_Y_train))\n",
    "print(len(reviews_Y_test))"
   ]
  },
  {
   "cell_type": "code",
   "execution_count": 31,
   "metadata": {},
   "outputs": [],
   "source": [
    "# scikit-learn logistic regression\n",
    "\n",
    "#reviewsRawData = pd.read_csv(\"./data/Hotel_Reviews.csv\", usecols=['Positive_Review', 'Negative_Review', 'Reviewer_Score'])\n",
    "#posCol = reviewsRawData['Positive_Review']\n",
    "#negCol = reviewsRawData['Negative_Review']\n",
    "#revCol = reviewsRawData['Reviewer_Score']\n",
    "#reviews_X_train = copy.deepcopy(reviewsNumData[100000:]) # training set = all but last 84000 instances\n",
    "#reviews_X_test = copy.deepcopy(reviewsNumData[0:100000])  \n",
    "#from sklearn.preprocessing import StandardScaler\n",
    "#sc = StandardScaler()\n",
    "#sc.fit(reviews_X_train)\n",
    "#X_train_std = sc.transform(reviews_X_train)\n",
    "#X_test_std = sc.transform(reviews_X_test)\n",
    "\n",
    "#from sklearn.linear_model import LogisticRegression\n",
    "#lr = LogisticRegression(C=1000.0, random_state=0)\n",
    "#lr.fit(X_train_std, reviews_Y_train)\n",
    "\n",
    "#useful reference: https://scikit-learn.org/stable/auto_examples/preprocessing/plot_discretization_classification.html#sphx-glr-auto-examples-preprocessing-plot-discretization-classification-py"
   ]
  },
  {
   "cell_type": "code",
   "execution_count": 32,
   "metadata": {},
   "outputs": [],
   "source": [
    "#reference for LinearSVC from https://scikit-learn.org/stable/modules/generated/sklearn.svm.LinearSVC.html\n",
    "#from sklearn.svm import LinearSVC\n",
    "#from sklearn.datasets import make_classification\n",
    "#clf = LinearSVC(random_state=0, tol=1e-5)\n",
    "#y = column_or_1d(reviews_Y_train, warn=True)\n",
    "#clf.fit(reviews_X_train, y)\n",
    "#LinearSVC(C=1.0, class_weight=None, dual=True, fit_intercept=True,\n",
    "#     intercept_scaling=1, loss='squared_hinge', max_iter=1000,\n",
    "#     multi_class='ovr', penalty='l2', random_state=0, tol=1e-05, verbose=0)\n",
    "#print(clf.coef_)\n",
    "#print(clf.intercept_)\n",
    "#print(clf.predict([[0, 0, 0, 0]]))\n"
   ]
  },
  {
   "cell_type": "code",
   "execution_count": 35,
   "metadata": {},
   "outputs": [
    {
     "name": "stderr",
     "output_type": "stream",
     "text": [
      "C:\\Users\\L\\Anaconda3\\lib\\site-packages\\sklearn\\utils\\validation.py:752: DataConversionWarning: A column-vector y was passed when a 1d array was expected. Please change the shape of y to (n_samples, ), for example using ravel().\n",
      "  y = column_or_1d(y, warn=True)\n"
     ]
    },
    {
     "name": "stdout",
     "output_type": "stream",
     "text": [
      "Coefficients: \n",
      " 0.17888651970550487\n",
      "Y-intercept: \n",
      " 8.44647839801144\n",
      "Variance score: 0.15\n"
     ]
    },
    {
     "data": {
      "image/png": "[encoded data removed]",
      "text/plain": [
       "<Figure size 432x288 with 1 Axes>"
      ]
     },
     "metadata": {},
     "output_type": "display_data"
    }
   ],
   "source": [
    "# This part was made with referencing Linear regression - OLS vs GD\n",
    "# Create linear regression object\n",
    "\n",
    "#regr = linear_model.LinearRegression() #run ordinary least squares\n",
    "\n",
    "#Gradient Descent \n",
    "regr=linear_model.SGDRegressor(loss='squared_epsilon_insensitive', alpha=0.00001, max_iter=60, learning_rate='optimal'\n",
    "                               , early_stopping = True, shuffle = True) #55.51\n",
    "#regr=linear_model.SGDRegressor(loss='squared_epsilon_insensitive', alpha=0.00001, max_iter=45) #47.7\n",
    "#regr=linear_model.SGDRegressor(loss='squared_epsilon_insensitive', alpha=0.00001, max_iter=65) #49.9\n",
    "#regr=linear_model.SGDRegressor(loss='squared_epsilon_insensitive', alpha=0.00001, max_iter=55) #49.9\n",
    "#regr=linear_model.SGDRegressor(loss='squared_epsilon_insensitive', alpha=0.00001, max_iter=50) #49\n",
    "#regr=linear_model.SGDRegressor(loss='squared_epsilon_insensitive', alpha=0.000001, max_iter=50) #48.8\n",
    "#regr=linear_model.SGDRegressor(loss='squared_epsilon_insensitive', alpha=0.000001, max_iter=30) #49.4\n",
    "#learning_rate='optimal', early_stopping = True shuffle = True made result from the same setting inconsistent slightly but helped to get higher accuracy\n",
    "#regr=linear_model.SGDRegressor(loss='huber', alpha=0.00001, max_iter=80) #48.9\n",
    "#regr=linear_model.SGDRegressor(loss='squared_loss', alpha=0.0000000001, max_iter=80) #49.0\n",
    "#regr=linear_model.SGDRegressor(loss='squared_loss', alpha=0.000000001, max_iter=150) #49.3\n",
    "#regr=linear_model.SGDRegressor(loss='squared_loss', alpha=0.01, max_iter=60) #original\n",
    "\n",
    "# Train the model using the training sets\n",
    "regr.fit(reviews_X_train, reviews_Y_train) ##this is where \"learning\" happens!\n",
    "\n",
    "# The coefficients\n",
    "coef = copy.deepcopy(regr.coef_[0])\n",
    "intercept = copy.deepcopy(regr.intercept_[0])\n",
    "print('Coefficients: \\n', coef)\n",
    "print('Y-intercept: \\n', intercept)\n",
    "# The mean squared error\n",
    "#print(\"Mean squared error: %.2f\"\n",
    "#     % np.mean((regr.predict(reviews_X_train) - reviews_Y_test) ** 2))\n",
    "# Explained variance score: 1 is perfect prediction\n",
    "print('Variance score: %.2f' % regr.score(reviews_X_test, reviews_Y_test))\n",
    "\n",
    "# Plot outputs\n",
    "plt.axis([-21, 21, 2, 10.5])\n",
    "plt.scatter(reviews_X_test, reviews_Y_test,  color='black')\n",
    "plt.plot(reviews_X_test, regr.predict(reviews_X_test), color='blue',\n",
    "         linewidth=5)\n",
    "\n",
    "plt.xticks(())\n",
    "plt.yticks(())\n",
    "\n",
    "plt.show()"
   ]
  },
  {
   "cell_type": "code",
   "execution_count": 36,
   "metadata": {},
   "outputs": [
    {
     "name": "stdout",
     "output_type": "stream",
     "text": [
      "avgAccuracy :  55.34814693540909\n"
     ]
    }
   ],
   "source": [
    "from __future__ import division\n",
    "from operator import truediv\n",
    "\n",
    "dataForAccuracy = reviewsRawData.iloc[0:100000,]\n",
    "#print(dataForAccuracy)\n",
    "\n",
    "testPos = dataForAccuracy.Positive_Review[:, np.newaxis]\n",
    "testNeg = dataForAccuracy.Negative_Review[:, np.newaxis]\n",
    "actualScore = dataForAccuracy.Reviewer_Score[:, np.newaxis]\n",
    "avgAccuracy = 0\n",
    "for i in range(0, 100000):\n",
    "    positiveResult = rake.apply(testPos[i][0])\n",
    "    negativeResult = rake.apply(testNeg[i][0])\n",
    "\n",
    "    positiveScore = 0\n",
    "    negativeScore = 0\n",
    "\n",
    "    if len(positiveResult) > 0:\n",
    "        for i in range(0, len(positiveResult)) :\n",
    "            positiveScore = positiveScore + positiveResult[i][1]\n",
    "    #print(\"positiveScore : \", positiveScore)\n",
    "    \n",
    "    if len(negativeResult) > 0:\n",
    "        for i in range(0, len(negativeResult)):\n",
    "            negativeScore = negativeScore + negativeResult[i][1]\n",
    "    #print(\"negativeScore : \", negativeScore)\n",
    "    \n",
    "    totalScore = positiveScore - negativeScore\n",
    "    #print(\"totalScore : \", totalScore)\n",
    "    \n",
    "    expectedReviewScore = coef*totalScore + intercept\n",
    "    #print(\"expectedReviewScore : \", expectedReviewScore)\n",
    "    \n",
    "    if expectedReviewScore > 10.0:\n",
    "        expectedReviewScore = 10.0\n",
    "    elif expectedReviewScore < 0.0:\n",
    "        expectedReviewScore = 0.0\n",
    "    else:\n",
    "        expectedReviewScore = round(expectedReviewScore,2)\n",
    "\n",
    "    #print(\"expectedReviewScore after conversion: \", expectedReviewScore)\n",
    "    \n",
    "    actualScoretemp = float(copy.deepcopy(actualScore[i]))\n",
    "    #print(\"actualScoretemp : \", actualScoretemp)\n",
    "    diff = abs(expectedReviewScore - actualScoretemp)\n",
    "    #print(\"diff : \", diff)    \n",
    "    \n",
    "    #percTemp = 1.1\n",
    "    if expectedReviewScore > actualScoretemp:\n",
    "       decimal = diff/expectedReviewScore\n",
    "    else:\n",
    "        decimal = diff/actualScoretemp\n",
    "    \n",
    "    #print(\"percTemp : \", percTemp)\n",
    "    eachAccuracy = (1-decimal)*100\n",
    "    #print(\"currentScore : \", currentScore)\n",
    "    \n",
    "    avgAccuracy = avgAccuracy + eachAccuracy\n",
    "    #print(\"totalReviewScore : \", totalReviewScore)\n",
    "    \n",
    "avgAccuracy = avgAccuracy/100000\n",
    "print(\"avgAccuracy : \", avgAccuracy)\n",
    "\n",
    "\n"
   ]
  },
  {
   "cell_type": "code",
   "execution_count": null,
   "metadata": {},
   "outputs": [],
   "source": []
  },
  {
   "cell_type": "code",
   "execution_count": null,
   "metadata": {},
   "outputs": [],
   "source": []
  },
  {
   "cell_type": "code",
   "execution_count": null,
   "metadata": {},
   "outputs": [],
   "source": []
  },
  {
   "cell_type": "code",
   "execution_count": null,
   "metadata": {},
   "outputs": [],
   "source": []
  },
  {
   "cell_type": "code",
   "execution_count": null,
   "metadata": {},
   "outputs": [],
   "source": []
  }
 ],
 "metadata": {
  "kernelspec": {
   "display_name": "Python 3",
   "language": "python",
   "name": "python3"
  },
  "language_info": {
   "codemirror_mode": {
    "name": "ipython",
    "version": 3
   },
   "file_extension": ".py",
   "mimetype": "text/x-python",
   "name": "python",
   "nbconvert_exporter": "python",
   "pygments_lexer": "ipython3",
   "version": "3.6.5"
  }
 },
 "nbformat": 4,
 "nbformat_minor": 2
}
