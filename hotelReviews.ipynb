{
 "cells": [
  {
   "cell_type": "code",
   "execution_count": 120,
   "metadata": {},
   "outputs": [],
   "source": [
    "%matplotlib inline"
   ]
  },
  {
   "cell_type": "code",
   "execution_count": 121,
   "metadata": {},
   "outputs": [
    {
     "name": "stdout",
     "output_type": "stream",
     "text": [
      "['Hotel_Reviews.csv']\n"
     ]
    }
   ],
   "source": [
    "import matplotlib.pyplot as plt\n",
    "import numpy as np\n",
    "import scipy as sp\n",
    "import pandas as pd\n",
    "import copy\n",
    "import time\n",
    "\n",
    "from multi_rake import Rake\n",
    "\n",
    "# Load the diabetes dataset\n",
    "import os\n",
    "print(os.listdir(\"./data\"))"
   ]
  },
  {
   "cell_type": "code",
   "execution_count": 122,
   "metadata": {},
   "outputs": [],
   "source": [
    "reviewsRawData = pd.read_csv(\"./data/Hotel_Reviews.csv\", usecols=['Positive_Review', 'Negative_Review', 'Reviewer_Score'])"
   ]
  },
  {
   "cell_type": "code",
   "execution_count": 123,
   "metadata": {},
   "outputs": [
    {
     "data": {
      "text/plain": [
       "Negative_Review    515738\n",
       "Positive_Review    515738\n",
       "Reviewer_Score     515738\n",
       "dtype: int64"
      ]
     },
     "execution_count": 123,
     "metadata": {},
     "output_type": "execute_result"
    }
   ],
   "source": [
    "# to make sure there's no empty attribute\n",
    "reviewsRawData.count()"
   ]
  },
  {
   "cell_type": "code",
   "execution_count": 124,
   "metadata": {
    "scrolled": true
   },
   "outputs": [],
   "source": [
    "#since there's no empty attribute, we can seperate each column to convert reviews to numberic values\n",
    "reviewsRawDataPos = reviewsRawData.Positive_Review[:100000, np.newaxis]\n",
    "reviewsRawDataNeg = reviewsRawData.Negative_Review[:100000, np.newaxis]\n",
    "reviewerScore = reviewsRawData.Reviewer_Score[:100000, np.newaxis]"
   ]
  },
  {
   "cell_type": "code",
   "execution_count": 125,
   "metadata": {},
   "outputs": [
    {
     "name": "stdout",
     "output_type": "stream",
     "text": [
      "Time taken for conversion: 0.5846487840016683 minutes \n"
     ]
    }
   ],
   "source": [
    "rake = Rake()\n",
    "\n",
    "reviewsNumData = copy.deepcopy(reviewsRawDataPos);\n",
    "\n",
    "start_time = time.time()\n",
    "\n",
    "for i in range(0, len(reviewsRawDataPos)):\n",
    "    reviewsNumData[i][0] = 0\n",
    "    # get important keywords with weight for each positive review\n",
    "    posKeywords = rake.apply(reviewsRawDataPos[i][0])\n",
    "    # each keyword's weight gets added up\n",
    "    for eachTuple in posKeywords:\n",
    "        reviewsNumData[i][0]= reviewsNumData[i][0] + eachTuple[1]/10\n",
    "    \n",
    "    # get important keywords with weight for each negative review\n",
    "    negKeywords = rake.apply(reviewsRawDataNeg[i][0])\n",
    "    # each keyword's weight gets subtracted\n",
    "    for eachTuple in negKeywords:\n",
    "        reviewsNumData[i][0]= reviewsNumData[i][0] - eachTuple[1]/10\n",
    "\n",
    "    #print(reviewsNumData[i])\n",
    "\n",
    "# con: due to size of the data, conversion takes time (~5mins)\n",
    "print(\"Time taken for conversion: %s minutes \" % ((time.time() - start_time)/60))"
   ]
  },
  {
   "cell_type": "code",
   "execution_count": 126,
   "metadata": {},
   "outputs": [
    {
     "name": "stdout",
     "output_type": "stream",
     "text": [
      "90000\n",
      "10000\n",
      "90000\n",
      "10000\n"
     ]
    }
   ],
   "source": [
    "# This part was made with referencing Linear regression - OLS vs GD\n",
    "# Split the data into training/testing sets\n",
    "reviews_X_train = copy.deepcopy(reviewsNumData[:-10000]) # training set = all but last 100000 instances\n",
    "reviews_X_test = copy.deepcopy(reviewsNumData[-10000:])  #test set = last 100000 instances\n",
    "print(len(reviews_X_train))\n",
    "print(len(reviews_X_test))\n",
    "# Split the targets into training/testing sets\n",
    "reviews_Y_train = copy.deepcopy(reviewerScore[:-10000])\n",
    "reviews_Y_test = copy.deepcopy(reviewerScore[-10000:])\n",
    "print(len(reviews_Y_train))\n",
    "print(len(reviews_Y_test))"
   ]
  },
  {
   "cell_type": "code",
   "execution_count": 129,
   "metadata": {},
   "outputs": [
    {
     "name": "stdout",
     "output_type": "stream",
     "text": [
      "Coefficients: \n",
      " [[0.39553936]]\n",
      "Variance score: 0.21\n"
     ]
    },
    {
     "data": {
      "image/png": "[encoded data removed]",
      "text/plain": [
       "<Figure size 432x288 with 1 Axes>"
      ]
     },
     "metadata": {},
     "output_type": "display_data"
    }
   ],
   "source": [
    "# This part was made with referencing Linear regression - OLS vs GD\n",
    "# Create linear regression object\n",
    "\n",
    "regr = linear_model.LinearRegression() #run ordinary least squares\n",
    "\n",
    "#Gradient Descent \n",
    "#regr=linear_model.SGDRegressor(loss='squared_loss', alpha=0.11, max_iter=60) \n",
    "#regr=linear_model.SGDRegressor(loss='squared_loss', alpha=0.01, max_iter=60) #original\n",
    "\n",
    "# Train the model using the training sets\n",
    "regr.fit(reviews_X_train, reviews_Y_train) ##this is where \"learning\" happens!\n",
    "\n",
    "# The coefficients\n",
    "print('Coefficients: \\n', regr.coef_)\n",
    "# The mean squared error\n",
    "#print(\"Mean squared error: %.2f\"\n",
    "#     % np.mean((regr.predict(reviews_X_train) - reviews_Y_test) ** 2))\n",
    "# Explained variance score: 1 is perfect prediction\n",
    "print('Variance score: %.2f' % regr.score(reviews_X_test, reviews_Y_test))\n",
    "\n",
    "# Plot outputs\n",
    "plt.scatter(reviews_X_test, reviews_Y_test,  color='black')\n",
    "plt.plot(reviews_X_test, regr.predict(reviews_X_test), color='blue',\n",
    "         linewidth=3)\n",
    "\n",
    "plt.xticks(())\n",
    "plt.yticks(())\n",
    "\n",
    "plt.show()"
   ]
  },
  {
   "cell_type": "code",
   "execution_count": null,
   "metadata": {},
   "outputs": [],
   "source": []
  },
  {
   "cell_type": "code",
   "execution_count": null,
   "metadata": {},
   "outputs": [],
   "source": []
  }
 ],
 "metadata": {
  "kernelspec": {
   "display_name": "Python 3",
   "language": "python",
   "name": "python3"
  },
  "language_info": {
   "codemirror_mode": {
    "name": "ipython",
    "version": 3
   },
   "file_extension": ".py",
   "mimetype": "text/x-python",
   "name": "python",
   "nbconvert_exporter": "python",
   "pygments_lexer": "ipython3",
   "version": "3.6.5"
  }
 },
 "nbformat": 4,
 "nbformat_minor": 2
}
